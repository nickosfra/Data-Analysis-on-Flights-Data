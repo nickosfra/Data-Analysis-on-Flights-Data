{
 "cells": [
  {
   "cell_type": "markdown",
   "metadata": {
    "slideshow": {
     "slide_type": "slide"
    }
   },
   "source": [
    "## Flights - Applied Machine Learning 1st Assignment | Fall Semester 2019-2020\n",
    "***\n",
    "> Nikolaos Fragkomanolis AM: 8160142 <br />\n",
    "> Athens University of Economics and Business 16/10/2019 <br />"
   ]
  },
  {
   "cell_type": "markdown",
   "metadata": {
    "slideshow": {
     "slide_type": "slide"
    }
   },
   "source": [
    "At first, we need to do the necessary steps which will give such format to our data in order to edit and show the results that we want. We import the necessary libs - without which we cannot handle anything! "
   ]
  },
  {
   "cell_type": "code",
   "execution_count": 30,
   "metadata": {
    "slideshow": {
     "slide_type": "fragment"
    }
   },
   "outputs": [],
   "source": [
    "import numpy as np\n",
    "import pandas as pd\n",
    "import matplotlib.pyplot as plt\n",
    "import seaborn as sns\n",
    "\n",
    "%matplotlib inline"
   ]
  },
  {
   "cell_type": "markdown",
   "metadata": {
    "slideshow": {
     "slide_type": "slide"
    }
   },
   "source": [
    "We use the `read_csv` method of pandas to open our file and afterwards we present a sample of 10 records in order to have a first sight of the data, to what each column refers and understand their meaning. "
   ]
  },
  {
   "cell_type": "code",
   "execution_count": 31,
   "metadata": {
    "slideshow": {
     "slide_type": "fragment"
    }
   },
   "outputs": [
    {
     "data": {
      "text/html": [
       "<div>\n",
       "<style scoped>\n",
       "    .dataframe tbody tr th:only-of-type {\n",
       "        vertical-align: middle;\n",
       "    }\n",
       "\n",
       "    .dataframe tbody tr th {\n",
       "        vertical-align: top;\n",
       "    }\n",
       "\n",
       "    .dataframe thead th {\n",
       "        text-align: right;\n",
       "    }\n",
       "</style>\n",
       "<table border=\"1\" class=\"dataframe\">\n",
       "  <thead>\n",
       "    <tr style=\"text-align: right;\">\n",
       "      <th></th>\n",
       "      <th>FL_DATE</th>\n",
       "      <th>TAIL_NUM</th>\n",
       "      <th>CARRIER</th>\n",
       "      <th>ORIGIN</th>\n",
       "      <th>ORIGIN_CITY_NAME</th>\n",
       "      <th>DEST</th>\n",
       "      <th>DEST_CITY_NAME</th>\n",
       "      <th>DEP_TIME</th>\n",
       "      <th>DEP_DELAY</th>\n",
       "      <th>ARR_TIME</th>\n",
       "      <th>ARR_DELAY</th>\n",
       "      <th>CANCELLED</th>\n",
       "      <th>CANCELLATION_CODE</th>\n",
       "      <th>DIVERTED</th>\n",
       "      <th>CARRIER_DELAY</th>\n",
       "      <th>WEATHER_DELAY</th>\n",
       "      <th>NAS_DELAY</th>\n",
       "      <th>SECURITY_DELAY</th>\n",
       "      <th>LATE_AIRCRAFT_DELAY</th>\n",
       "      <th>Unnamed: 19</th>\n",
       "    </tr>\n",
       "  </thead>\n",
       "  <tbody>\n",
       "    <tr>\n",
       "      <th>1019304</th>\n",
       "      <td>2018-02-25</td>\n",
       "      <td>N904EV</td>\n",
       "      <td>OO</td>\n",
       "      <td>TUS</td>\n",
       "      <td>Tucson, AZ</td>\n",
       "      <td>DEN</td>\n",
       "      <td>Denver, CO</td>\n",
       "      <td>657.0</td>\n",
       "      <td>-3.0</td>\n",
       "      <td>858.0</td>\n",
       "      <td>-8.0</td>\n",
       "      <td>0.0</td>\n",
       "      <td>NaN</td>\n",
       "      <td>0.0</td>\n",
       "      <td>NaN</td>\n",
       "      <td>NaN</td>\n",
       "      <td>NaN</td>\n",
       "      <td>NaN</td>\n",
       "      <td>NaN</td>\n",
       "      <td>NaN</td>\n",
       "    </tr>\n",
       "    <tr>\n",
       "      <th>5739785</th>\n",
       "      <td>2018-10-17</td>\n",
       "      <td>N599NN</td>\n",
       "      <td>OH</td>\n",
       "      <td>DAY</td>\n",
       "      <td>Dayton, OH</td>\n",
       "      <td>CLT</td>\n",
       "      <td>Charlotte, NC</td>\n",
       "      <td>653.0</td>\n",
       "      <td>-10.0</td>\n",
       "      <td>822.0</td>\n",
       "      <td>-27.0</td>\n",
       "      <td>0.0</td>\n",
       "      <td>NaN</td>\n",
       "      <td>0.0</td>\n",
       "      <td>NaN</td>\n",
       "      <td>NaN</td>\n",
       "      <td>NaN</td>\n",
       "      <td>NaN</td>\n",
       "      <td>NaN</td>\n",
       "      <td>NaN</td>\n",
       "    </tr>\n",
       "    <tr>\n",
       "      <th>6863410</th>\n",
       "      <td>2018-12-13</td>\n",
       "      <td>N316FR</td>\n",
       "      <td>F9</td>\n",
       "      <td>IAH</td>\n",
       "      <td>Houston, TX</td>\n",
       "      <td>DEN</td>\n",
       "      <td>Denver, CO</td>\n",
       "      <td>510.0</td>\n",
       "      <td>-4.0</td>\n",
       "      <td>633.0</td>\n",
       "      <td>-22.0</td>\n",
       "      <td>0.0</td>\n",
       "      <td>NaN</td>\n",
       "      <td>0.0</td>\n",
       "      <td>NaN</td>\n",
       "      <td>NaN</td>\n",
       "      <td>NaN</td>\n",
       "      <td>NaN</td>\n",
       "      <td>NaN</td>\n",
       "      <td>NaN</td>\n",
       "    </tr>\n",
       "    <tr>\n",
       "      <th>1301548</th>\n",
       "      <td>2018-03-11</td>\n",
       "      <td>N547US</td>\n",
       "      <td>DL</td>\n",
       "      <td>LAX</td>\n",
       "      <td>Los Angeles, CA</td>\n",
       "      <td>OGG</td>\n",
       "      <td>Kahului, HI</td>\n",
       "      <td>1525.0</td>\n",
       "      <td>5.0</td>\n",
       "      <td>1824.0</td>\n",
       "      <td>6.0</td>\n",
       "      <td>0.0</td>\n",
       "      <td>NaN</td>\n",
       "      <td>0.0</td>\n",
       "      <td>NaN</td>\n",
       "      <td>NaN</td>\n",
       "      <td>NaN</td>\n",
       "      <td>NaN</td>\n",
       "      <td>NaN</td>\n",
       "      <td>NaN</td>\n",
       "    </tr>\n",
       "    <tr>\n",
       "      <th>6546959</th>\n",
       "      <td>2018-11-27</td>\n",
       "      <td>N355NW</td>\n",
       "      <td>DL</td>\n",
       "      <td>ATL</td>\n",
       "      <td>Atlanta, GA</td>\n",
       "      <td>DFW</td>\n",
       "      <td>Dallas/Fort Worth, TX</td>\n",
       "      <td>737.0</td>\n",
       "      <td>-1.0</td>\n",
       "      <td>915.0</td>\n",
       "      <td>10.0</td>\n",
       "      <td>0.0</td>\n",
       "      <td>NaN</td>\n",
       "      <td>0.0</td>\n",
       "      <td>NaN</td>\n",
       "      <td>NaN</td>\n",
       "      <td>NaN</td>\n",
       "      <td>NaN</td>\n",
       "      <td>NaN</td>\n",
       "      <td>NaN</td>\n",
       "    </tr>\n",
       "    <tr>\n",
       "      <th>5692331</th>\n",
       "      <td>2018-10-14</td>\n",
       "      <td>N339DN</td>\n",
       "      <td>DL</td>\n",
       "      <td>DTW</td>\n",
       "      <td>Detroit, MI</td>\n",
       "      <td>LAX</td>\n",
       "      <td>Los Angeles, CA</td>\n",
       "      <td>1748.0</td>\n",
       "      <td>2.0</td>\n",
       "      <td>2001.0</td>\n",
       "      <td>17.0</td>\n",
       "      <td>0.0</td>\n",
       "      <td>NaN</td>\n",
       "      <td>0.0</td>\n",
       "      <td>0.0</td>\n",
       "      <td>0.0</td>\n",
       "      <td>17.0</td>\n",
       "      <td>0.0</td>\n",
       "      <td>0.0</td>\n",
       "      <td>NaN</td>\n",
       "    </tr>\n",
       "    <tr>\n",
       "      <th>5596267</th>\n",
       "      <td>2018-10-09</td>\n",
       "      <td>N262PS</td>\n",
       "      <td>OH</td>\n",
       "      <td>EVV</td>\n",
       "      <td>Evansville, IN</td>\n",
       "      <td>CLT</td>\n",
       "      <td>Charlotte, NC</td>\n",
       "      <td>1102.0</td>\n",
       "      <td>-15.0</td>\n",
       "      <td>1354.0</td>\n",
       "      <td>-12.0</td>\n",
       "      <td>0.0</td>\n",
       "      <td>NaN</td>\n",
       "      <td>0.0</td>\n",
       "      <td>NaN</td>\n",
       "      <td>NaN</td>\n",
       "      <td>NaN</td>\n",
       "      <td>NaN</td>\n",
       "      <td>NaN</td>\n",
       "      <td>NaN</td>\n",
       "    </tr>\n",
       "    <tr>\n",
       "      <th>1353639</th>\n",
       "      <td>2018-03-14</td>\n",
       "      <td>N481WN</td>\n",
       "      <td>WN</td>\n",
       "      <td>MCI</td>\n",
       "      <td>Kansas City, MO</td>\n",
       "      <td>LGA</td>\n",
       "      <td>New York, NY</td>\n",
       "      <td>1204.0</td>\n",
       "      <td>-1.0</td>\n",
       "      <td>1606.0</td>\n",
       "      <td>16.0</td>\n",
       "      <td>0.0</td>\n",
       "      <td>NaN</td>\n",
       "      <td>0.0</td>\n",
       "      <td>0.0</td>\n",
       "      <td>0.0</td>\n",
       "      <td>16.0</td>\n",
       "      <td>0.0</td>\n",
       "      <td>0.0</td>\n",
       "      <td>NaN</td>\n",
       "    </tr>\n",
       "    <tr>\n",
       "      <th>2050657</th>\n",
       "      <td>2018-04-18</td>\n",
       "      <td>N566WN</td>\n",
       "      <td>WN</td>\n",
       "      <td>ATL</td>\n",
       "      <td>Atlanta, GA</td>\n",
       "      <td>IND</td>\n",
       "      <td>Indianapolis, IN</td>\n",
       "      <td>839.0</td>\n",
       "      <td>-1.0</td>\n",
       "      <td>1008.0</td>\n",
       "      <td>-7.0</td>\n",
       "      <td>0.0</td>\n",
       "      <td>NaN</td>\n",
       "      <td>0.0</td>\n",
       "      <td>NaN</td>\n",
       "      <td>NaN</td>\n",
       "      <td>NaN</td>\n",
       "      <td>NaN</td>\n",
       "      <td>NaN</td>\n",
       "      <td>NaN</td>\n",
       "    </tr>\n",
       "    <tr>\n",
       "      <th>453178</th>\n",
       "      <td>2018-01-25</td>\n",
       "      <td>N80343</td>\n",
       "      <td>YV</td>\n",
       "      <td>IAH</td>\n",
       "      <td>Houston, TX</td>\n",
       "      <td>DFW</td>\n",
       "      <td>Dallas/Fort Worth, TX</td>\n",
       "      <td>739.0</td>\n",
       "      <td>4.0</td>\n",
       "      <td>842.0</td>\n",
       "      <td>-11.0</td>\n",
       "      <td>0.0</td>\n",
       "      <td>NaN</td>\n",
       "      <td>0.0</td>\n",
       "      <td>NaN</td>\n",
       "      <td>NaN</td>\n",
       "      <td>NaN</td>\n",
       "      <td>NaN</td>\n",
       "      <td>NaN</td>\n",
       "      <td>NaN</td>\n",
       "    </tr>\n",
       "  </tbody>\n",
       "</table>\n",
       "</div>"
      ],
      "text/plain": [
       "            FL_DATE TAIL_NUM CARRIER ORIGIN ORIGIN_CITY_NAME DEST  \\\n",
       "1019304  2018-02-25   N904EV      OO    TUS       Tucson, AZ  DEN   \n",
       "5739785  2018-10-17   N599NN      OH    DAY       Dayton, OH  CLT   \n",
       "6863410  2018-12-13   N316FR      F9    IAH      Houston, TX  DEN   \n",
       "1301548  2018-03-11   N547US      DL    LAX  Los Angeles, CA  OGG   \n",
       "6546959  2018-11-27   N355NW      DL    ATL      Atlanta, GA  DFW   \n",
       "5692331  2018-10-14   N339DN      DL    DTW      Detroit, MI  LAX   \n",
       "5596267  2018-10-09   N262PS      OH    EVV   Evansville, IN  CLT   \n",
       "1353639  2018-03-14   N481WN      WN    MCI  Kansas City, MO  LGA   \n",
       "2050657  2018-04-18   N566WN      WN    ATL      Atlanta, GA  IND   \n",
       "453178   2018-01-25   N80343      YV    IAH      Houston, TX  DFW   \n",
       "\n",
       "                DEST_CITY_NAME  DEP_TIME  DEP_DELAY  ARR_TIME  ARR_DELAY  \\\n",
       "1019304             Denver, CO     657.0       -3.0     858.0       -8.0   \n",
       "5739785          Charlotte, NC     653.0      -10.0     822.0      -27.0   \n",
       "6863410             Denver, CO     510.0       -4.0     633.0      -22.0   \n",
       "1301548            Kahului, HI    1525.0        5.0    1824.0        6.0   \n",
       "6546959  Dallas/Fort Worth, TX     737.0       -1.0     915.0       10.0   \n",
       "5692331        Los Angeles, CA    1748.0        2.0    2001.0       17.0   \n",
       "5596267          Charlotte, NC    1102.0      -15.0    1354.0      -12.0   \n",
       "1353639           New York, NY    1204.0       -1.0    1606.0       16.0   \n",
       "2050657       Indianapolis, IN     839.0       -1.0    1008.0       -7.0   \n",
       "453178   Dallas/Fort Worth, TX     739.0        4.0     842.0      -11.0   \n",
       "\n",
       "         CANCELLED CANCELLATION_CODE  DIVERTED  CARRIER_DELAY  WEATHER_DELAY  \\\n",
       "1019304        0.0               NaN       0.0            NaN            NaN   \n",
       "5739785        0.0               NaN       0.0            NaN            NaN   \n",
       "6863410        0.0               NaN       0.0            NaN            NaN   \n",
       "1301548        0.0               NaN       0.0            NaN            NaN   \n",
       "6546959        0.0               NaN       0.0            NaN            NaN   \n",
       "5692331        0.0               NaN       0.0            0.0            0.0   \n",
       "5596267        0.0               NaN       0.0            NaN            NaN   \n",
       "1353639        0.0               NaN       0.0            0.0            0.0   \n",
       "2050657        0.0               NaN       0.0            NaN            NaN   \n",
       "453178         0.0               NaN       0.0            NaN            NaN   \n",
       "\n",
       "         NAS_DELAY  SECURITY_DELAY  LATE_AIRCRAFT_DELAY  Unnamed: 19  \n",
       "1019304        NaN             NaN                  NaN          NaN  \n",
       "5739785        NaN             NaN                  NaN          NaN  \n",
       "6863410        NaN             NaN                  NaN          NaN  \n",
       "1301548        NaN             NaN                  NaN          NaN  \n",
       "6546959        NaN             NaN                  NaN          NaN  \n",
       "5692331       17.0             0.0                  0.0          NaN  \n",
       "5596267        NaN             NaN                  NaN          NaN  \n",
       "1353639       16.0             0.0                  0.0          NaN  \n",
       "2050657        NaN             NaN                  NaN          NaN  \n",
       "453178         NaN             NaN                  NaN          NaN  "
      ]
     },
     "execution_count": 31,
     "metadata": {},
     "output_type": "execute_result"
    }
   ],
   "source": [
    "data_filename = '515364771_T_ONTIME_REPORTING.csv'\n",
    "data = pd.read_csv(data_filename)\n",
    "data.sample(10)"
   ]
  },
  {
   "cell_type": "markdown",
   "metadata": {
    "slideshow": {
     "slide_type": "slide"
    }
   },
   "source": [
    "## Question 1\n",
    "### The first question presents:\n",
    "- a **'misery index'**<a id='misery index'></a> for airports, which means a descending order of the airports based on the probability that a passenger leaving from every different airport have a delay\n",
    "- the **average** and **median** delay for each airport\n",
    "- a **combination** of the two previous bullets in the same results"
   ]
  },
  {
   "cell_type": "markdown",
   "metadata": {
    "slideshow": {
     "slide_type": "slide"
    }
   },
   "source": [
    "### Cleaning\n",
    "Before we start, we need to \"clean\" our data and exclude the airports which have a very limited number of flights because we are not interested in them. To do this, we need to calculate the total flights of each airport."
   ]
  },
  {
   "cell_type": "code",
   "execution_count": 32,
   "metadata": {
    "slideshow": {
     "slide_type": "fragment"
    }
   },
   "outputs": [
    {
     "data": {
      "text/html": [
       "<div>\n",
       "<style scoped>\n",
       "    .dataframe tbody tr th:only-of-type {\n",
       "        vertical-align: middle;\n",
       "    }\n",
       "\n",
       "    .dataframe tbody tr th {\n",
       "        vertical-align: top;\n",
       "    }\n",
       "\n",
       "    .dataframe thead th {\n",
       "        text-align: right;\n",
       "    }\n",
       "</style>\n",
       "<table border=\"1\" class=\"dataframe\">\n",
       "  <thead>\n",
       "    <tr style=\"text-align: right;\">\n",
       "      <th></th>\n",
       "      <th>ORIGIN</th>\n",
       "      <th>NUM_OF_FLIGHTS</th>\n",
       "    </tr>\n",
       "  </thead>\n",
       "  <tbody>\n",
       "    <tr>\n",
       "      <th>138</th>\n",
       "      <td>MLI</td>\n",
       "      <td>5048</td>\n",
       "    </tr>\n",
       "    <tr>\n",
       "      <th>190</th>\n",
       "      <td>MOT</td>\n",
       "      <td>2560</td>\n",
       "    </tr>\n",
       "    <tr>\n",
       "      <th>314</th>\n",
       "      <td>HIB</td>\n",
       "      <td>625</td>\n",
       "    </tr>\n",
       "    <tr>\n",
       "      <th>4</th>\n",
       "      <td>CLT</td>\n",
       "      <td>233317</td>\n",
       "    </tr>\n",
       "    <tr>\n",
       "      <th>119</th>\n",
       "      <td>SHV</td>\n",
       "      <td>6694</td>\n",
       "    </tr>\n",
       "    <tr>\n",
       "      <th>187</th>\n",
       "      <td>PHF</td>\n",
       "      <td>2669</td>\n",
       "    </tr>\n",
       "    <tr>\n",
       "      <th>301</th>\n",
       "      <td>RKS</td>\n",
       "      <td>680</td>\n",
       "    </tr>\n",
       "    <tr>\n",
       "      <th>89</th>\n",
       "      <td>ALB</td>\n",
       "      <td>12360</td>\n",
       "    </tr>\n",
       "    <tr>\n",
       "      <th>133</th>\n",
       "      <td>ECP</td>\n",
       "      <td>5537</td>\n",
       "    </tr>\n",
       "    <tr>\n",
       "      <th>50</th>\n",
       "      <td>JAX</td>\n",
       "      <td>31340</td>\n",
       "    </tr>\n",
       "  </tbody>\n",
       "</table>\n",
       "</div>"
      ],
      "text/plain": [
       "    ORIGIN  NUM_OF_FLIGHTS\n",
       "138    MLI            5048\n",
       "190    MOT            2560\n",
       "314    HIB             625\n",
       "4      CLT          233317\n",
       "119    SHV            6694\n",
       "187    PHF            2669\n",
       "301    RKS             680\n",
       "89     ALB           12360\n",
       "133    ECP            5537\n",
       "50     JAX           31340"
      ]
     },
     "execution_count": 32,
     "metadata": {},
     "output_type": "execute_result"
    }
   ],
   "source": [
    "total_fl = pd.DataFrame(data.ORIGIN.value_counts())\n",
    "total_fl = total_fl.reset_index()\n",
    "total_fl.columns = ['ORIGIN', 'NUM_OF_FLIGHTS']\n",
    "total_fl.sample(10)"
   ]
  },
  {
   "cell_type": "markdown",
   "metadata": {
    "slideshow": {
     "slide_type": "slide"
    }
   },
   "source": [
    "We want to exclude the airports in the lowest 1% percentile in the total number of flights.  "
   ]
  },
  {
   "cell_type": "code",
   "execution_count": 33,
   "metadata": {
    "slideshow": {
     "slide_type": "fragment"
    }
   },
   "outputs": [
    {
     "data": {
      "text/html": [
       "<div>\n",
       "<style scoped>\n",
       "    .dataframe tbody tr th:only-of-type {\n",
       "        vertical-align: middle;\n",
       "    }\n",
       "\n",
       "    .dataframe tbody tr th {\n",
       "        vertical-align: top;\n",
       "    }\n",
       "\n",
       "    .dataframe thead th {\n",
       "        text-align: right;\n",
       "    }\n",
       "</style>\n",
       "<table border=\"1\" class=\"dataframe\">\n",
       "  <thead>\n",
       "    <tr style=\"text-align: right;\">\n",
       "      <th></th>\n",
       "      <th>ORIGIN</th>\n",
       "      <th>NUM_OF_FLIGHTS</th>\n",
       "    </tr>\n",
       "  </thead>\n",
       "  <tbody>\n",
       "    <tr>\n",
       "      <th>354</th>\n",
       "      <td>CYS</td>\n",
       "      <td>58</td>\n",
       "    </tr>\n",
       "    <tr>\n",
       "      <th>355</th>\n",
       "      <td>IFP</td>\n",
       "      <td>45</td>\n",
       "    </tr>\n",
       "    <tr>\n",
       "      <th>356</th>\n",
       "      <td>ART</td>\n",
       "      <td>25</td>\n",
       "    </tr>\n",
       "    <tr>\n",
       "      <th>357</th>\n",
       "      <td>YNG</td>\n",
       "      <td>2</td>\n",
       "    </tr>\n",
       "  </tbody>\n",
       "</table>\n",
       "</div>"
      ],
      "text/plain": [
       "    ORIGIN  NUM_OF_FLIGHTS\n",
       "354    CYS              58\n",
       "355    IFP              45\n",
       "356    ART              25\n",
       "357    YNG               2"
      ]
     },
     "execution_count": 33,
     "metadata": {},
     "output_type": "execute_result"
    }
   ],
   "source": [
    "outliers = total_fl.loc[total_fl.NUM_OF_FLIGHTS < total_fl.NUM_OF_FLIGHTS.quantile(0.01)]\n",
    "outliers"
   ]
  },
  {
   "cell_type": "markdown",
   "metadata": {
    "slideshow": {
     "slide_type": "slide"
    }
   },
   "source": [
    "So now we are aware of the airports which need to be excluded. Time to remove them!"
   ]
  },
  {
   "cell_type": "code",
   "execution_count": 34,
   "metadata": {
    "slideshow": {
     "slide_type": "fragment"
    }
   },
   "outputs": [
    {
     "name": "stdout",
     "output_type": "stream",
     "text": [
      "7213446\n"
     ]
    }
   ],
   "source": [
    "print(len(data))"
   ]
  },
  {
   "cell_type": "code",
   "execution_count": 35,
   "metadata": {
    "slideshow": {
     "slide_type": "fragment"
    }
   },
   "outputs": [
    {
     "name": "stdout",
     "output_type": "stream",
     "text": [
      "7213316\n"
     ]
    }
   ],
   "source": [
    "clean_data = data.loc[~data['ORIGIN'].isin(outliers.ORIGIN)]\n",
    "print(len(clean_data))"
   ]
  },
  {
   "cell_type": "markdown",
   "metadata": {
    "slideshow": {
     "slide_type": "slide"
    }
   },
   "source": [
    "### How possible is it to have a delay?\n",
    "At this point, we want to calculate how possible it is that a passenger leaving from a given airport face a delay. To do this, we need to find the total number of delayed flights for each airport, after we create a new dataframe which includes all the delayed flights."
   ]
  },
  {
   "cell_type": "code",
   "execution_count": 36,
   "metadata": {
    "slideshow": {
     "slide_type": "fragment"
    }
   },
   "outputs": [
    {
     "name": "stdout",
     "output_type": "stream",
     "text": [
      "2449165\n"
     ]
    },
    {
     "data": {
      "text/html": [
       "<div>\n",
       "<style scoped>\n",
       "    .dataframe tbody tr th:only-of-type {\n",
       "        vertical-align: middle;\n",
       "    }\n",
       "\n",
       "    .dataframe tbody tr th {\n",
       "        vertical-align: top;\n",
       "    }\n",
       "\n",
       "    .dataframe thead th {\n",
       "        text-align: right;\n",
       "    }\n",
       "</style>\n",
       "<table border=\"1\" class=\"dataframe\">\n",
       "  <thead>\n",
       "    <tr style=\"text-align: right;\">\n",
       "      <th></th>\n",
       "      <th>FL_DATE</th>\n",
       "      <th>TAIL_NUM</th>\n",
       "      <th>CARRIER</th>\n",
       "      <th>ORIGIN</th>\n",
       "      <th>ORIGIN_CITY_NAME</th>\n",
       "      <th>DEST</th>\n",
       "      <th>DEST_CITY_NAME</th>\n",
       "      <th>DEP_TIME</th>\n",
       "      <th>DEP_DELAY</th>\n",
       "      <th>ARR_TIME</th>\n",
       "      <th>ARR_DELAY</th>\n",
       "      <th>CANCELLED</th>\n",
       "      <th>CANCELLATION_CODE</th>\n",
       "      <th>DIVERTED</th>\n",
       "      <th>CARRIER_DELAY</th>\n",
       "      <th>WEATHER_DELAY</th>\n",
       "      <th>NAS_DELAY</th>\n",
       "      <th>SECURITY_DELAY</th>\n",
       "      <th>LATE_AIRCRAFT_DELAY</th>\n",
       "      <th>Unnamed: 19</th>\n",
       "    </tr>\n",
       "  </thead>\n",
       "  <tbody>\n",
       "    <tr>\n",
       "      <th>1</th>\n",
       "      <td>2018-01-01</td>\n",
       "      <td>N8891A</td>\n",
       "      <td>9E</td>\n",
       "      <td>MSP</td>\n",
       "      <td>Minneapolis, MN</td>\n",
       "      <td>GFK</td>\n",
       "      <td>Grand Forks, ND</td>\n",
       "      <td>1124.0</td>\n",
       "      <td>9.0</td>\n",
       "      <td>1234.0</td>\n",
       "      <td>-11.0</td>\n",
       "      <td>0.0</td>\n",
       "      <td>NaN</td>\n",
       "      <td>0.0</td>\n",
       "      <td>NaN</td>\n",
       "      <td>NaN</td>\n",
       "      <td>NaN</td>\n",
       "      <td>NaN</td>\n",
       "      <td>NaN</td>\n",
       "      <td>NaN</td>\n",
       "    </tr>\n",
       "    <tr>\n",
       "      <th>2</th>\n",
       "      <td>2018-01-01</td>\n",
       "      <td>N293PQ</td>\n",
       "      <td>9E</td>\n",
       "      <td>DTW</td>\n",
       "      <td>Detroit, MI</td>\n",
       "      <td>SAT</td>\n",
       "      <td>San Antonio, TX</td>\n",
       "      <td>2022.0</td>\n",
       "      <td>4.0</td>\n",
       "      <td>2232.0</td>\n",
       "      <td>-50.0</td>\n",
       "      <td>0.0</td>\n",
       "      <td>NaN</td>\n",
       "      <td>0.0</td>\n",
       "      <td>NaN</td>\n",
       "      <td>NaN</td>\n",
       "      <td>NaN</td>\n",
       "      <td>NaN</td>\n",
       "      <td>NaN</td>\n",
       "      <td>NaN</td>\n",
       "    </tr>\n",
       "    <tr>\n",
       "      <th>3</th>\n",
       "      <td>2018-01-01</td>\n",
       "      <td>N295PQ</td>\n",
       "      <td>9E</td>\n",
       "      <td>BOS</td>\n",
       "      <td>Boston, MA</td>\n",
       "      <td>CVG</td>\n",
       "      <td>Cincinnati, OH</td>\n",
       "      <td>1349.0</td>\n",
       "      <td>104.0</td>\n",
       "      <td>1613.0</td>\n",
       "      <td>94.0</td>\n",
       "      <td>0.0</td>\n",
       "      <td>NaN</td>\n",
       "      <td>0.0</td>\n",
       "      <td>79.0</td>\n",
       "      <td>0.0</td>\n",
       "      <td>0.0</td>\n",
       "      <td>0.0</td>\n",
       "      <td>15.0</td>\n",
       "      <td>NaN</td>\n",
       "    </tr>\n",
       "  </tbody>\n",
       "</table>\n",
       "</div>"
      ],
      "text/plain": [
       "      FL_DATE TAIL_NUM CARRIER ORIGIN ORIGIN_CITY_NAME DEST   DEST_CITY_NAME  \\\n",
       "1  2018-01-01   N8891A      9E    MSP  Minneapolis, MN  GFK  Grand Forks, ND   \n",
       "2  2018-01-01   N293PQ      9E    DTW      Detroit, MI  SAT  San Antonio, TX   \n",
       "3  2018-01-01   N295PQ      9E    BOS       Boston, MA  CVG   Cincinnati, OH   \n",
       "\n",
       "   DEP_TIME  DEP_DELAY  ARR_TIME  ARR_DELAY  CANCELLED CANCELLATION_CODE  \\\n",
       "1    1124.0        9.0    1234.0      -11.0        0.0               NaN   \n",
       "2    2022.0        4.0    2232.0      -50.0        0.0               NaN   \n",
       "3    1349.0      104.0    1613.0       94.0        0.0               NaN   \n",
       "\n",
       "   DIVERTED  CARRIER_DELAY  WEATHER_DELAY  NAS_DELAY  SECURITY_DELAY  \\\n",
       "1       0.0            NaN            NaN        NaN             NaN   \n",
       "2       0.0            NaN            NaN        NaN             NaN   \n",
       "3       0.0           79.0            0.0        0.0             0.0   \n",
       "\n",
       "   LATE_AIRCRAFT_DELAY  Unnamed: 19  \n",
       "1                  NaN          NaN  \n",
       "2                  NaN          NaN  \n",
       "3                 15.0          NaN  "
      ]
     },
     "execution_count": 36,
     "metadata": {},
     "output_type": "execute_result"
    }
   ],
   "source": [
    "del_airp = clean_data[(clean_data.DEP_DELAY > 0.0)]\n",
    "print(len(del_airp))\n",
    "del_airp.head(3)"
   ]
  },
  {
   "cell_type": "code",
   "execution_count": 37,
   "metadata": {
    "slideshow": {
     "slide_type": "slide"
    }
   },
   "outputs": [
    {
     "name": "stdout",
     "output_type": "stream",
     "text": [
      "354\n"
     ]
    },
    {
     "data": {
      "text/html": [
       "<div>\n",
       "<style scoped>\n",
       "    .dataframe tbody tr th:only-of-type {\n",
       "        vertical-align: middle;\n",
       "    }\n",
       "\n",
       "    .dataframe tbody tr th {\n",
       "        vertical-align: top;\n",
       "    }\n",
       "\n",
       "    .dataframe thead th {\n",
       "        text-align: right;\n",
       "    }\n",
       "</style>\n",
       "<table border=\"1\" class=\"dataframe\">\n",
       "  <thead>\n",
       "    <tr style=\"text-align: right;\">\n",
       "      <th></th>\n",
       "      <th>ORIGIN</th>\n",
       "      <th>NUM_OF_DEL_FLIGHTS</th>\n",
       "    </tr>\n",
       "  </thead>\n",
       "  <tbody>\n",
       "    <tr>\n",
       "      <th>0</th>\n",
       "      <td>ATL</td>\n",
       "      <td>141182</td>\n",
       "    </tr>\n",
       "    <tr>\n",
       "      <th>1</th>\n",
       "      <td>ORD</td>\n",
       "      <td>112855</td>\n",
       "    </tr>\n",
       "    <tr>\n",
       "      <th>2</th>\n",
       "      <td>DFW</td>\n",
       "      <td>100994</td>\n",
       "    </tr>\n",
       "    <tr>\n",
       "      <th>3</th>\n",
       "      <td>DEN</td>\n",
       "      <td>88915</td>\n",
       "    </tr>\n",
       "    <tr>\n",
       "      <th>4</th>\n",
       "      <td>CLT</td>\n",
       "      <td>88139</td>\n",
       "    </tr>\n",
       "  </tbody>\n",
       "</table>\n",
       "</div>"
      ],
      "text/plain": [
       "  ORIGIN  NUM_OF_DEL_FLIGHTS\n",
       "0    ATL              141182\n",
       "1    ORD              112855\n",
       "2    DFW              100994\n",
       "3    DEN               88915\n",
       "4    CLT               88139"
      ]
     },
     "execution_count": 37,
     "metadata": {},
     "output_type": "execute_result"
    }
   ],
   "source": [
    "num_del_airp = pd.DataFrame(del_airp.ORIGIN.value_counts())\n",
    "num_del_airp = num_del_airp.reset_index()\n",
    "num_del_airp.columns = [\"ORIGIN\", \"NUM_OF_DEL_FLIGHTS\"]\n",
    "print(len(num_del_airp))\n",
    "num_del_airp.head()"
   ]
  },
  {
   "cell_type": "markdown",
   "metadata": {
    "slideshow": {
     "slide_type": "slide"
    }
   },
   "source": [
    "We are ready to calculate the probability we are looking for. In order to make our life easier, we join the two data-frames. And, we have our **'misery index'**."
   ]
  },
  {
   "cell_type": "code",
   "execution_count": 38,
   "metadata": {
    "slideshow": {
     "slide_type": "fragment"
    }
   },
   "outputs": [
    {
     "data": {
      "text/html": [
       "<div>\n",
       "<style scoped>\n",
       "    .dataframe tbody tr th:only-of-type {\n",
       "        vertical-align: middle;\n",
       "    }\n",
       "\n",
       "    .dataframe tbody tr th {\n",
       "        vertical-align: top;\n",
       "    }\n",
       "\n",
       "    .dataframe thead th {\n",
       "        text-align: right;\n",
       "    }\n",
       "</style>\n",
       "<table border=\"1\" class=\"dataframe\">\n",
       "  <thead>\n",
       "    <tr style=\"text-align: right;\">\n",
       "      <th></th>\n",
       "      <th>ORIGIN</th>\n",
       "      <th>NUM_OF_FLIGHTS</th>\n",
       "      <th>NUM_OF_DEL_FLIGHTS</th>\n",
       "      <th>DELAY_PROBABILITY</th>\n",
       "    </tr>\n",
       "  </thead>\n",
       "  <tbody>\n",
       "    <tr>\n",
       "      <th>344</th>\n",
       "      <td>OGD</td>\n",
       "      <td>126</td>\n",
       "      <td>83</td>\n",
       "      <td>65.873016</td>\n",
       "    </tr>\n",
       "    <tr>\n",
       "      <th>282</th>\n",
       "      <td>SCK</td>\n",
       "      <td>747</td>\n",
       "      <td>486</td>\n",
       "      <td>65.060241</td>\n",
       "    </tr>\n",
       "    <tr>\n",
       "      <th>25</th>\n",
       "      <td>MDW</td>\n",
       "      <td>87095</td>\n",
       "      <td>51131</td>\n",
       "      <td>58.707159</td>\n",
       "    </tr>\n",
       "  </tbody>\n",
       "</table>\n",
       "</div>"
      ],
      "text/plain": [
       "    ORIGIN  NUM_OF_FLIGHTS  NUM_OF_DEL_FLIGHTS  DELAY_PROBABILITY\n",
       "344    OGD             126                  83          65.873016\n",
       "282    SCK             747                 486          65.060241\n",
       "25     MDW           87095               51131          58.707159"
      ]
     },
     "execution_count": 38,
     "metadata": {},
     "output_type": "execute_result"
    }
   ],
   "source": [
    "prob_del_airp = pd.merge(total_fl, num_del_airp, on = \"ORIGIN\")\n",
    "prob_del_airp['DELAY_PROBABILITY'] = (prob_del_airp.NUM_OF_DEL_FLIGHTS/prob_del_airp.NUM_OF_FLIGHTS)*100\n",
    "prob_del_airp = prob_del_airp.sort_values(by='DELAY_PROBABILITY', ascending=False)\n",
    "prob_del_airp.head(3)"
   ]
  },
  {
   "cell_type": "markdown",
   "metadata": {
    "slideshow": {
     "slide_type": "slide"
    }
   },
   "source": [
    "### Average and Median\n",
    "Going back to our data, we want to present the average and median delay for each airport."
   ]
  },
  {
   "cell_type": "code",
   "execution_count": 39,
   "metadata": {
    "slideshow": {
     "slide_type": "fragment"
    }
   },
   "outputs": [
    {
     "data": {
      "text/html": [
       "<div>\n",
       "<style scoped>\n",
       "    .dataframe tbody tr th:only-of-type {\n",
       "        vertical-align: middle;\n",
       "    }\n",
       "\n",
       "    .dataframe tbody tr th {\n",
       "        vertical-align: top;\n",
       "    }\n",
       "\n",
       "    .dataframe thead th {\n",
       "        text-align: right;\n",
       "    }\n",
       "</style>\n",
       "<table border=\"1\" class=\"dataframe\">\n",
       "  <thead>\n",
       "    <tr style=\"text-align: right;\">\n",
       "      <th></th>\n",
       "      <th>ORIGIN</th>\n",
       "      <th>AVG_DELAY</th>\n",
       "      <th>MEDIAN_DELAY</th>\n",
       "    </tr>\n",
       "  </thead>\n",
       "  <tbody>\n",
       "    <tr>\n",
       "      <th>98</th>\n",
       "      <td>DVL</td>\n",
       "      <td>138.419048</td>\n",
       "      <td>43.0</td>\n",
       "    </tr>\n",
       "    <tr>\n",
       "      <th>266</th>\n",
       "      <td>PPG</td>\n",
       "      <td>106.448276</td>\n",
       "      <td>19.0</td>\n",
       "    </tr>\n",
       "    <tr>\n",
       "      <th>177</th>\n",
       "      <td>JMS</td>\n",
       "      <td>104.857895</td>\n",
       "      <td>31.0</td>\n",
       "    </tr>\n",
       "    <tr>\n",
       "      <th>73</th>\n",
       "      <td>CMX</td>\n",
       "      <td>99.817308</td>\n",
       "      <td>37.5</td>\n",
       "    </tr>\n",
       "    <tr>\n",
       "      <th>282</th>\n",
       "      <td>RHI</td>\n",
       "      <td>96.752294</td>\n",
       "      <td>32.0</td>\n",
       "    </tr>\n",
       "  </tbody>\n",
       "</table>\n",
       "</div>"
      ],
      "text/plain": [
       "    ORIGIN   AVG_DELAY  MEDIAN_DELAY\n",
       "98     DVL  138.419048          43.0\n",
       "266    PPG  106.448276          19.0\n",
       "177    JMS  104.857895          31.0\n",
       "73     CMX   99.817308          37.5\n",
       "282    RHI   96.752294          32.0"
      ]
     },
     "execution_count": 39,
     "metadata": {},
     "output_type": "execute_result"
    }
   ],
   "source": [
    "avg_del_airp = del_airp.groupby('ORIGIN', as_index=False)['DEP_DELAY'].mean()\n",
    "median_del_airp = del_airp.groupby('ORIGIN', as_index=False)['DEP_DELAY'].median()\n",
    "stats_del_airp = pd.merge(avg_del_airp, median_del_airp, on = \"ORIGIN\")\n",
    "stats_del_airp.rename(columns={'DEP_DELAY_x': 'AVG_DELAY', 'DEP_DELAY_y': 'MEDIAN_DELAY'}, inplace = True)\n",
    "stats_del_airp.sort_values(by ='AVG_DELAY', ascending=False, inplace=True)\n",
    "stats_del_airp.head()"
   ]
  },
  {
   "cell_type": "markdown",
   "metadata": {
    "slideshow": {
     "slide_type": "slide"
    }
   },
   "source": [
    "### Enriching the airport misery index\n",
    "At the end of Question 1, we are going to **combine** the results we found; the probability that a passenger will face a delay at a given airport, the average delay and the median, all in descending order according to the delay possibility."
   ]
  },
  {
   "cell_type": "code",
   "execution_count": 40,
   "metadata": {
    "slideshow": {
     "slide_type": "fragment"
    }
   },
   "outputs": [
    {
     "data": {
      "text/html": [
       "<div>\n",
       "<style scoped>\n",
       "    .dataframe tbody tr th:only-of-type {\n",
       "        vertical-align: middle;\n",
       "    }\n",
       "\n",
       "    .dataframe tbody tr th {\n",
       "        vertical-align: top;\n",
       "    }\n",
       "\n",
       "    .dataframe thead th {\n",
       "        text-align: right;\n",
       "    }\n",
       "</style>\n",
       "<table border=\"1\" class=\"dataframe\">\n",
       "  <thead>\n",
       "    <tr style=\"text-align: right;\">\n",
       "      <th></th>\n",
       "      <th>ORIGIN</th>\n",
       "      <th>AVG_DELAY</th>\n",
       "      <th>MEDIAN_DELAY</th>\n",
       "      <th>DELAY_PROBABILITY</th>\n",
       "    </tr>\n",
       "  </thead>\n",
       "  <tbody>\n",
       "    <tr>\n",
       "      <th>344</th>\n",
       "      <td>UIN</td>\n",
       "      <td>69.818182</td>\n",
       "      <td>30.0</td>\n",
       "      <td>65.873016</td>\n",
       "    </tr>\n",
       "    <tr>\n",
       "      <th>282</th>\n",
       "      <td>RHI</td>\n",
       "      <td>96.752294</td>\n",
       "      <td>32.0</td>\n",
       "      <td>65.060241</td>\n",
       "    </tr>\n",
       "    <tr>\n",
       "      <th>25</th>\n",
       "      <td>AZA</td>\n",
       "      <td>37.712859</td>\n",
       "      <td>18.0</td>\n",
       "      <td>58.707159</td>\n",
       "    </tr>\n",
       "    <tr>\n",
       "      <th>349</th>\n",
       "      <td>WRG</td>\n",
       "      <td>30.154412</td>\n",
       "      <td>17.0</td>\n",
       "      <td>58.426966</td>\n",
       "    </tr>\n",
       "    <tr>\n",
       "      <th>28</th>\n",
       "      <td>BET</td>\n",
       "      <td>25.165680</td>\n",
       "      <td>11.0</td>\n",
       "      <td>57.108247</td>\n",
       "    </tr>\n",
       "    <tr>\n",
       "      <th>34</th>\n",
       "      <td>BIL</td>\n",
       "      <td>53.572539</td>\n",
       "      <td>21.0</td>\n",
       "      <td>54.352449</td>\n",
       "    </tr>\n",
       "    <tr>\n",
       "      <th>347</th>\n",
       "      <td>VLD</td>\n",
       "      <td>47.228000</td>\n",
       "      <td>14.5</td>\n",
       "      <td>50.450450</td>\n",
       "    </tr>\n",
       "    <tr>\n",
       "      <th>342</th>\n",
       "      <td>TYR</td>\n",
       "      <td>40.613065</td>\n",
       "      <td>16.0</td>\n",
       "      <td>49.275362</td>\n",
       "    </tr>\n",
       "    <tr>\n",
       "      <th>271</th>\n",
       "      <td>PSM</td>\n",
       "      <td>61.761194</td>\n",
       "      <td>26.5</td>\n",
       "      <td>48.122867</td>\n",
       "    </tr>\n",
       "    <tr>\n",
       "      <th>345</th>\n",
       "      <td>USA</td>\n",
       "      <td>57.516393</td>\n",
       "      <td>24.0</td>\n",
       "      <td>47.540984</td>\n",
       "    </tr>\n",
       "  </tbody>\n",
       "</table>\n",
       "</div>"
      ],
      "text/plain": [
       "    ORIGIN  AVG_DELAY  MEDIAN_DELAY  DELAY_PROBABILITY\n",
       "344    UIN  69.818182          30.0          65.873016\n",
       "282    RHI  96.752294          32.0          65.060241\n",
       "25     AZA  37.712859          18.0          58.707159\n",
       "349    WRG  30.154412          17.0          58.426966\n",
       "28     BET  25.165680          11.0          57.108247\n",
       "34     BIL  53.572539          21.0          54.352449\n",
       "347    VLD  47.228000          14.5          50.450450\n",
       "342    TYR  40.613065          16.0          49.275362\n",
       "271    PSM  61.761194          26.5          48.122867\n",
       "345    USA  57.516393          24.0          47.540984"
      ]
     },
     "execution_count": 40,
     "metadata": {},
     "output_type": "execute_result"
    }
   ],
   "source": [
    "stats_del_airp['DELAY_PROBABILITY'] = prob_del_airp['DELAY_PROBABILITY']\n",
    "stats_del_airp = stats_del_airp.sort_values(by='DELAY_PROBABILITY', ascending=False)\n",
    "stats_del_airp.head(10)"
   ]
  },
  {
   "cell_type": "markdown",
   "metadata": {
    "slideshow": {
     "slide_type": "slide"
    }
   },
   "source": [
    "## Question 2\n",
    "Question 2 covers almost the same results with the first one, but this time focusing on the **airlines**. We now want to analyze the grade on which the airline companies make their passengers' life dificult due to delayed flights."
   ]
  },
  {
   "cell_type": "markdown",
   "metadata": {
    "slideshow": {
     "slide_type": "slide"
    }
   },
   "source": [
    "### How possible is it to have a delay?\n",
    "We are going to follow almost the same path in order to find the delayed flights. For this reason, we count the total amount of flights that each airline had."
   ]
  },
  {
   "cell_type": "code",
   "execution_count": 41,
   "metadata": {
    "slideshow": {
     "slide_type": "fragment"
    }
   },
   "outputs": [
    {
     "data": {
      "text/html": [
       "<div>\n",
       "<style scoped>\n",
       "    .dataframe tbody tr th:only-of-type {\n",
       "        vertical-align: middle;\n",
       "    }\n",
       "\n",
       "    .dataframe tbody tr th {\n",
       "        vertical-align: top;\n",
       "    }\n",
       "\n",
       "    .dataframe thead th {\n",
       "        text-align: right;\n",
       "    }\n",
       "</style>\n",
       "<table border=\"1\" class=\"dataframe\">\n",
       "  <thead>\n",
       "    <tr style=\"text-align: right;\">\n",
       "      <th></th>\n",
       "      <th>CARRIER</th>\n",
       "      <th>TOTAL_FLIGHTS</th>\n",
       "    </tr>\n",
       "  </thead>\n",
       "  <tbody>\n",
       "    <tr>\n",
       "      <th>0</th>\n",
       "      <td>WN</td>\n",
       "      <td>1352552</td>\n",
       "    </tr>\n",
       "    <tr>\n",
       "      <th>1</th>\n",
       "      <td>DL</td>\n",
       "      <td>949283</td>\n",
       "    </tr>\n",
       "    <tr>\n",
       "      <th>2</th>\n",
       "      <td>AA</td>\n",
       "      <td>916818</td>\n",
       "    </tr>\n",
       "  </tbody>\n",
       "</table>\n",
       "</div>"
      ],
      "text/plain": [
       "  CARRIER  TOTAL_FLIGHTS\n",
       "0      WN        1352552\n",
       "1      DL         949283\n",
       "2      AA         916818"
      ]
     },
     "execution_count": 41,
     "metadata": {},
     "output_type": "execute_result"
    }
   ],
   "source": [
    "total_airl = pd.DataFrame(data.CARRIER.value_counts())\n",
    "total_airl.reset_index(inplace = True)\n",
    "total_airl.columns = ['CARRIER', 'TOTAL_FLIGHTS']\n",
    "total_airl.head(3)"
   ]
  },
  {
   "cell_type": "markdown",
   "metadata": {
    "slideshow": {
     "slide_type": "slide"
    }
   },
   "source": [
    "In order to calculate the probability we are looking for, we need to find the total amount of **delayed** flights per airline. Hence, we add a new column TOTAL_DEL_FLIGHTS. "
   ]
  },
  {
   "cell_type": "code",
   "execution_count": 42,
   "metadata": {
    "slideshow": {
     "slide_type": "fragment"
    }
   },
   "outputs": [
    {
     "data": {
      "text/html": [
       "<div>\n",
       "<style scoped>\n",
       "    .dataframe tbody tr th:only-of-type {\n",
       "        vertical-align: middle;\n",
       "    }\n",
       "\n",
       "    .dataframe tbody tr th {\n",
       "        vertical-align: top;\n",
       "    }\n",
       "\n",
       "    .dataframe thead th {\n",
       "        text-align: right;\n",
       "    }\n",
       "</style>\n",
       "<table border=\"1\" class=\"dataframe\">\n",
       "  <thead>\n",
       "    <tr style=\"text-align: right;\">\n",
       "      <th></th>\n",
       "      <th>CARRIER</th>\n",
       "      <th>TOTAL_FLIGHTS</th>\n",
       "      <th>TOTAL_DEL_FLIGHTS</th>\n",
       "    </tr>\n",
       "  </thead>\n",
       "  <tbody>\n",
       "    <tr>\n",
       "      <th>0</th>\n",
       "      <td>WN</td>\n",
       "      <td>1352552</td>\n",
       "      <td>662363</td>\n",
       "    </tr>\n",
       "    <tr>\n",
       "      <th>1</th>\n",
       "      <td>DL</td>\n",
       "      <td>949283</td>\n",
       "      <td>286165</td>\n",
       "    </tr>\n",
       "    <tr>\n",
       "      <th>2</th>\n",
       "      <td>AA</td>\n",
       "      <td>916818</td>\n",
       "      <td>317751</td>\n",
       "    </tr>\n",
       "  </tbody>\n",
       "</table>\n",
       "</div>"
      ],
      "text/plain": [
       "  CARRIER  TOTAL_FLIGHTS  TOTAL_DEL_FLIGHTS\n",
       "0      WN        1352552             662363\n",
       "1      DL         949283             286165\n",
       "2      AA         916818             317751"
      ]
     },
     "execution_count": 42,
     "metadata": {},
     "output_type": "execute_result"
    }
   ],
   "source": [
    "del_airl = data[(data.DEP_DELAY > 0.0)]\n",
    "total_del_airl = pd.DataFrame(del_airl.CARRIER.value_counts())\n",
    "total_del_airl.reset_index(inplace=True)\n",
    "total_del_airl.columns = ['CARRIER', 'TOTAL_DEL_FLIGHTS']\n",
    "prob_del_airl = pd.merge(total_airl, total_del_airl, on = \"CARRIER\")\n",
    "prob_del_airl.head(3)"
   ]
  },
  {
   "cell_type": "markdown",
   "metadata": {},
   "source": [
    "Now, we have all the information needed in order to count the **probability**."
   ]
  },
  {
   "cell_type": "code",
   "execution_count": 43,
   "metadata": {
    "slideshow": {
     "slide_type": "slide"
    }
   },
   "outputs": [
    {
     "data": {
      "text/html": [
       "<div>\n",
       "<style scoped>\n",
       "    .dataframe tbody tr th:only-of-type {\n",
       "        vertical-align: middle;\n",
       "    }\n",
       "\n",
       "    .dataframe tbody tr th {\n",
       "        vertical-align: top;\n",
       "    }\n",
       "\n",
       "    .dataframe thead th {\n",
       "        text-align: right;\n",
       "    }\n",
       "</style>\n",
       "<table border=\"1\" class=\"dataframe\">\n",
       "  <thead>\n",
       "    <tr style=\"text-align: right;\">\n",
       "      <th></th>\n",
       "      <th>CARRIER</th>\n",
       "      <th>TOTAL_FLIGHTS</th>\n",
       "      <th>TOTAL_DEL_FLIGHTS</th>\n",
       "      <th>PROBABILITY_OF_DEL</th>\n",
       "    </tr>\n",
       "  </thead>\n",
       "  <tbody>\n",
       "    <tr>\n",
       "      <th>0</th>\n",
       "      <td>WN</td>\n",
       "      <td>1352552</td>\n",
       "      <td>662363</td>\n",
       "      <td>48.971352</td>\n",
       "    </tr>\n",
       "    <tr>\n",
       "      <th>14</th>\n",
       "      <td>F9</td>\n",
       "      <td>120035</td>\n",
       "      <td>53321</td>\n",
       "      <td>44.421210</td>\n",
       "    </tr>\n",
       "    <tr>\n",
       "      <th>6</th>\n",
       "      <td>B6</td>\n",
       "      <td>305010</td>\n",
       "      <td>125011</td>\n",
       "      <td>40.985869</td>\n",
       "    </tr>\n",
       "    <tr>\n",
       "      <th>8</th>\n",
       "      <td>OH</td>\n",
       "      <td>278457</td>\n",
       "      <td>100247</td>\n",
       "      <td>36.000891</td>\n",
       "    </tr>\n",
       "    <tr>\n",
       "      <th>2</th>\n",
       "      <td>AA</td>\n",
       "      <td>916818</td>\n",
       "      <td>317751</td>\n",
       "      <td>34.658024</td>\n",
       "    </tr>\n",
       "    <tr>\n",
       "      <th>15</th>\n",
       "      <td>G4</td>\n",
       "      <td>96221</td>\n",
       "      <td>32886</td>\n",
       "      <td>34.177570</td>\n",
       "    </tr>\n",
       "    <tr>\n",
       "      <th>17</th>\n",
       "      <td>VX</td>\n",
       "      <td>17670</td>\n",
       "      <td>5382</td>\n",
       "      <td>30.458404</td>\n",
       "    </tr>\n",
       "    <tr>\n",
       "      <th>1</th>\n",
       "      <td>DL</td>\n",
       "      <td>949283</td>\n",
       "      <td>286165</td>\n",
       "      <td>30.145383</td>\n",
       "    </tr>\n",
       "    <tr>\n",
       "      <th>4</th>\n",
       "      <td>UA</td>\n",
       "      <td>621565</td>\n",
       "      <td>185249</td>\n",
       "      <td>29.803641</td>\n",
       "    </tr>\n",
       "    <tr>\n",
       "      <th>13</th>\n",
       "      <td>NK</td>\n",
       "      <td>176178</td>\n",
       "      <td>51119</td>\n",
       "      <td>29.015541</td>\n",
       "    </tr>\n",
       "    <tr>\n",
       "      <th>7</th>\n",
       "      <td>MQ</td>\n",
       "      <td>296001</td>\n",
       "      <td>83546</td>\n",
       "      <td>28.224905</td>\n",
       "    </tr>\n",
       "    <tr>\n",
       "      <th>11</th>\n",
       "      <td>YV</td>\n",
       "      <td>215138</td>\n",
       "      <td>60284</td>\n",
       "      <td>28.021084</td>\n",
       "    </tr>\n",
       "    <tr>\n",
       "      <th>10</th>\n",
       "      <td>AS</td>\n",
       "      <td>245761</td>\n",
       "      <td>66254</td>\n",
       "      <td>26.958712</td>\n",
       "    </tr>\n",
       "    <tr>\n",
       "      <th>12</th>\n",
       "      <td>EV</td>\n",
       "      <td>202890</td>\n",
       "      <td>53898</td>\n",
       "      <td>26.565134</td>\n",
       "    </tr>\n",
       "    <tr>\n",
       "      <th>9</th>\n",
       "      <td>9E</td>\n",
       "      <td>245917</td>\n",
       "      <td>64942</td>\n",
       "      <td>26.408097</td>\n",
       "    </tr>\n",
       "    <tr>\n",
       "      <th>3</th>\n",
       "      <td>OO</td>\n",
       "      <td>774137</td>\n",
       "      <td>203193</td>\n",
       "      <td>26.247680</td>\n",
       "    </tr>\n",
       "    <tr>\n",
       "      <th>16</th>\n",
       "      <td>HA</td>\n",
       "      <td>83723</td>\n",
       "      <td>21767</td>\n",
       "      <td>25.998829</td>\n",
       "    </tr>\n",
       "    <tr>\n",
       "      <th>5</th>\n",
       "      <td>YX</td>\n",
       "      <td>316090</td>\n",
       "      <td>75839</td>\n",
       "      <td>23.992850</td>\n",
       "    </tr>\n",
       "  </tbody>\n",
       "</table>\n",
       "</div>"
      ],
      "text/plain": [
       "   CARRIER  TOTAL_FLIGHTS  TOTAL_DEL_FLIGHTS  PROBABILITY_OF_DEL\n",
       "0       WN        1352552             662363           48.971352\n",
       "14      F9         120035              53321           44.421210\n",
       "6       B6         305010             125011           40.985869\n",
       "8       OH         278457             100247           36.000891\n",
       "2       AA         916818             317751           34.658024\n",
       "15      G4          96221              32886           34.177570\n",
       "17      VX          17670               5382           30.458404\n",
       "1       DL         949283             286165           30.145383\n",
       "4       UA         621565             185249           29.803641\n",
       "13      NK         176178              51119           29.015541\n",
       "7       MQ         296001              83546           28.224905\n",
       "11      YV         215138              60284           28.021084\n",
       "10      AS         245761              66254           26.958712\n",
       "12      EV         202890              53898           26.565134\n",
       "9       9E         245917              64942           26.408097\n",
       "3       OO         774137             203193           26.247680\n",
       "16      HA          83723              21767           25.998829\n",
       "5       YX         316090              75839           23.992850"
      ]
     },
     "execution_count": 43,
     "metadata": {},
     "output_type": "execute_result"
    }
   ],
   "source": [
    "prob_del_airl['PROBABILITY_OF_DEL'] = (prob_del_airl.TOTAL_DEL_FLIGHTS/prob_del_airl.TOTAL_FLIGHTS)*100\n",
    "prob_del_airl.sort_values(by='PROBABILITY_OF_DEL', ascending = False, inplace = True)\n",
    "prob_del_airl"
   ]
  },
  {
   "cell_type": "markdown",
   "metadata": {
    "slideshow": {
     "slide_type": "slide"
    }
   },
   "source": [
    "In order to have a better understanding of the results we replace the content of column CARRIER with the full name of each airline. For this reason, we open the file that contains these names, we do the operations needed and provide our probability dataframe with the full names."
   ]
  },
  {
   "cell_type": "code",
   "execution_count": 44,
   "metadata": {
    "scrolled": false,
    "slideshow": {
     "slide_type": "slide"
    }
   },
   "outputs": [
    {
     "data": {
      "text/html": [
       "<div>\n",
       "<style scoped>\n",
       "    .dataframe tbody tr th:only-of-type {\n",
       "        vertical-align: middle;\n",
       "    }\n",
       "\n",
       "    .dataframe tbody tr th {\n",
       "        vertical-align: top;\n",
       "    }\n",
       "\n",
       "    .dataframe thead th {\n",
       "        text-align: right;\n",
       "    }\n",
       "</style>\n",
       "<table border=\"1\" class=\"dataframe\">\n",
       "  <thead>\n",
       "    <tr style=\"text-align: right;\">\n",
       "      <th></th>\n",
       "      <th>CARRIER</th>\n",
       "      <th>TOTAL_FLIGHTS</th>\n",
       "      <th>TOTAL_DEL_FLIGHTS</th>\n",
       "      <th>PROBABILITY_OF_DEL</th>\n",
       "    </tr>\n",
       "  </thead>\n",
       "  <tbody>\n",
       "    <tr>\n",
       "      <th>0</th>\n",
       "      <td>Southwest Airlines Co.</td>\n",
       "      <td>1352552</td>\n",
       "      <td>662363</td>\n",
       "      <td>48.971352</td>\n",
       "    </tr>\n",
       "    <tr>\n",
       "      <th>14</th>\n",
       "      <td>Frontier Airlines Inc.</td>\n",
       "      <td>120035</td>\n",
       "      <td>53321</td>\n",
       "      <td>44.421210</td>\n",
       "    </tr>\n",
       "    <tr>\n",
       "      <th>6</th>\n",
       "      <td>JetBlue Airways</td>\n",
       "      <td>305010</td>\n",
       "      <td>125011</td>\n",
       "      <td>40.985869</td>\n",
       "    </tr>\n",
       "    <tr>\n",
       "      <th>8</th>\n",
       "      <td>PSA Airlines Inc.</td>\n",
       "      <td>278457</td>\n",
       "      <td>100247</td>\n",
       "      <td>36.000891</td>\n",
       "    </tr>\n",
       "    <tr>\n",
       "      <th>2</th>\n",
       "      <td>American Airlines Inc.</td>\n",
       "      <td>916818</td>\n",
       "      <td>317751</td>\n",
       "      <td>34.658024</td>\n",
       "    </tr>\n",
       "    <tr>\n",
       "      <th>15</th>\n",
       "      <td>Allegiant Air</td>\n",
       "      <td>96221</td>\n",
       "      <td>32886</td>\n",
       "      <td>34.177570</td>\n",
       "    </tr>\n",
       "    <tr>\n",
       "      <th>17</th>\n",
       "      <td>Virgin America</td>\n",
       "      <td>17670</td>\n",
       "      <td>5382</td>\n",
       "      <td>30.458404</td>\n",
       "    </tr>\n",
       "    <tr>\n",
       "      <th>1</th>\n",
       "      <td>Delta Air Lines Inc.</td>\n",
       "      <td>949283</td>\n",
       "      <td>286165</td>\n",
       "      <td>30.145383</td>\n",
       "    </tr>\n",
       "    <tr>\n",
       "      <th>4</th>\n",
       "      <td>United Air Lines Inc.</td>\n",
       "      <td>621565</td>\n",
       "      <td>185249</td>\n",
       "      <td>29.803641</td>\n",
       "    </tr>\n",
       "    <tr>\n",
       "      <th>13</th>\n",
       "      <td>Spirit Air Lines</td>\n",
       "      <td>176178</td>\n",
       "      <td>51119</td>\n",
       "      <td>29.015541</td>\n",
       "    </tr>\n",
       "    <tr>\n",
       "      <th>7</th>\n",
       "      <td>Envoy Air</td>\n",
       "      <td>296001</td>\n",
       "      <td>83546</td>\n",
       "      <td>28.224905</td>\n",
       "    </tr>\n",
       "    <tr>\n",
       "      <th>11</th>\n",
       "      <td>Mesa Airlines Inc.</td>\n",
       "      <td>215138</td>\n",
       "      <td>60284</td>\n",
       "      <td>28.021084</td>\n",
       "    </tr>\n",
       "    <tr>\n",
       "      <th>10</th>\n",
       "      <td>Alaska Airlines Inc.</td>\n",
       "      <td>245761</td>\n",
       "      <td>66254</td>\n",
       "      <td>26.958712</td>\n",
       "    </tr>\n",
       "    <tr>\n",
       "      <th>12</th>\n",
       "      <td>ExpressJet Airlines LLC</td>\n",
       "      <td>202890</td>\n",
       "      <td>53898</td>\n",
       "      <td>26.565134</td>\n",
       "    </tr>\n",
       "    <tr>\n",
       "      <th>9</th>\n",
       "      <td>Endeavor Air Inc.</td>\n",
       "      <td>245917</td>\n",
       "      <td>64942</td>\n",
       "      <td>26.408097</td>\n",
       "    </tr>\n",
       "    <tr>\n",
       "      <th>3</th>\n",
       "      <td>SkyWest Airlines Inc.</td>\n",
       "      <td>774137</td>\n",
       "      <td>203193</td>\n",
       "      <td>26.247680</td>\n",
       "    </tr>\n",
       "    <tr>\n",
       "      <th>16</th>\n",
       "      <td>Hawaiian Airlines Inc.</td>\n",
       "      <td>83723</td>\n",
       "      <td>21767</td>\n",
       "      <td>25.998829</td>\n",
       "    </tr>\n",
       "    <tr>\n",
       "      <th>5</th>\n",
       "      <td>Republic Airline</td>\n",
       "      <td>316090</td>\n",
       "      <td>75839</td>\n",
       "      <td>23.992850</td>\n",
       "    </tr>\n",
       "  </tbody>\n",
       "</table>\n",
       "</div>"
      ],
      "text/plain": [
       "                    CARRIER  TOTAL_FLIGHTS  TOTAL_DEL_FLIGHTS  \\\n",
       "0    Southwest Airlines Co.        1352552             662363   \n",
       "14   Frontier Airlines Inc.         120035              53321   \n",
       "6           JetBlue Airways         305010             125011   \n",
       "8         PSA Airlines Inc.         278457             100247   \n",
       "2    American Airlines Inc.         916818             317751   \n",
       "15            Allegiant Air          96221              32886   \n",
       "17           Virgin America          17670               5382   \n",
       "1      Delta Air Lines Inc.         949283             286165   \n",
       "4     United Air Lines Inc.         621565             185249   \n",
       "13         Spirit Air Lines         176178              51119   \n",
       "7                 Envoy Air         296001              83546   \n",
       "11       Mesa Airlines Inc.         215138              60284   \n",
       "10     Alaska Airlines Inc.         245761              66254   \n",
       "12  ExpressJet Airlines LLC         202890              53898   \n",
       "9         Endeavor Air Inc.         245917              64942   \n",
       "3     SkyWest Airlines Inc.         774137             203193   \n",
       "16   Hawaiian Airlines Inc.          83723              21767   \n",
       "5          Republic Airline         316090              75839   \n",
       "\n",
       "    PROBABILITY_OF_DEL  \n",
       "0            48.971352  \n",
       "14           44.421210  \n",
       "6            40.985869  \n",
       "8            36.000891  \n",
       "2            34.658024  \n",
       "15           34.177570  \n",
       "17           30.458404  \n",
       "1            30.145383  \n",
       "4            29.803641  \n",
       "13           29.015541  \n",
       "7            28.224905  \n",
       "11           28.021084  \n",
       "10           26.958712  \n",
       "12           26.565134  \n",
       "9            26.408097  \n",
       "3            26.247680  \n",
       "16           25.998829  \n",
       "5            23.992850  "
      ]
     },
     "execution_count": 44,
     "metadata": {},
     "output_type": "execute_result"
    }
   ],
   "source": [
    "airl_names_fn = 'L_UNIQUE_CARRIERS.csv_'\n",
    "airl_names = pd.read_csv(airl_names_fn)\n",
    "airl_names_2018 = pd.DataFrame(airl_names[(airl_names.Code.isin(prob_del_airl.CARRIER))])\n",
    "airl_names_2018.columns = ['CARRIER', 'AIRLINE']\n",
    "code_to_full_names = {'9E': 'Endeavor Air Inc.',\n",
    "                    'AA': 'American Airlines Inc.',\n",
    "                    'AS': 'Alaska Airlines Inc.',\n",
    "                    'B6': 'JetBlue Airways',\n",
    "                    'DL': 'Delta Air Lines Inc.',\n",
    "                    'EV': 'ExpressJet Airlines LLC',\n",
    "                    'F9': 'Frontier Airlines Inc.',\n",
    "                    'G4': 'Allegiant Air',\n",
    "                    'HA': 'Hawaiian Airlines Inc.',\n",
    "                    'MQ': 'Envoy Air',\n",
    "                    'NK': 'Spirit Air Lines',\n",
    "                    'OH': 'PSA Airlines Inc.',\n",
    "                    'OO': 'SkyWest Airlines Inc.',\n",
    "                    'UA': 'United Air Lines Inc.',\n",
    "                    'VX': 'Virgin America',\n",
    "                    'WN': 'Southwest Airlines Co.',\n",
    "                    'YV': 'Mesa Airlines Inc.',\n",
    "                    'YX': 'Republic Airline'}\n",
    "prob_del_airl['CARRIER'] = prob_del_airl['CARRIER'].map(code_to_full_names)\n",
    "prob_del_airl"
   ]
  },
  {
   "cell_type": "markdown",
   "metadata": {
    "slideshow": {
     "slide_type": "slide"
    }
   },
   "source": [
    "### Average and Median\n",
    "Alomst the same precedure we followed in Question 1 to find the **average** and **median** of the airports."
   ]
  },
  {
   "cell_type": "code",
   "execution_count": 45,
   "metadata": {
    "slideshow": {
     "slide_type": "slide"
    }
   },
   "outputs": [
    {
     "data": {
      "text/html": [
       "<div>\n",
       "<style scoped>\n",
       "    .dataframe tbody tr th:only-of-type {\n",
       "        vertical-align: middle;\n",
       "    }\n",
       "\n",
       "    .dataframe tbody tr th {\n",
       "        vertical-align: top;\n",
       "    }\n",
       "\n",
       "    .dataframe thead th {\n",
       "        text-align: right;\n",
       "    }\n",
       "</style>\n",
       "<table border=\"1\" class=\"dataframe\">\n",
       "  <thead>\n",
       "    <tr style=\"text-align: right;\">\n",
       "      <th></th>\n",
       "      <th>CARRIER</th>\n",
       "      <th>AVG_DELAY</th>\n",
       "      <th>MEDIAN_DELAY</th>\n",
       "    </tr>\n",
       "  </thead>\n",
       "  <tbody>\n",
       "    <tr>\n",
       "      <th>5</th>\n",
       "      <td>ExpressJet Airlines LLC</td>\n",
       "      <td>61.865041</td>\n",
       "      <td>31.0</td>\n",
       "    </tr>\n",
       "    <tr>\n",
       "      <th>12</th>\n",
       "      <td>SkyWest Airlines Inc.</td>\n",
       "      <td>54.693784</td>\n",
       "      <td>24.0</td>\n",
       "    </tr>\n",
       "    <tr>\n",
       "      <th>0</th>\n",
       "      <td>Endeavor Air Inc.</td>\n",
       "      <td>53.945690</td>\n",
       "      <td>25.0</td>\n",
       "    </tr>\n",
       "    <tr>\n",
       "      <th>16</th>\n",
       "      <td>Mesa Airlines Inc.</td>\n",
       "      <td>51.562570</td>\n",
       "      <td>23.0</td>\n",
       "    </tr>\n",
       "    <tr>\n",
       "      <th>6</th>\n",
       "      <td>Frontier Airlines Inc.</td>\n",
       "      <td>50.856173</td>\n",
       "      <td>25.0</td>\n",
       "    </tr>\n",
       "    <tr>\n",
       "      <th>7</th>\n",
       "      <td>Allegiant Air</td>\n",
       "      <td>49.588548</td>\n",
       "      <td>22.0</td>\n",
       "    </tr>\n",
       "    <tr>\n",
       "      <th>3</th>\n",
       "      <td>JetBlue Airways</td>\n",
       "      <td>47.006303</td>\n",
       "      <td>24.0</td>\n",
       "    </tr>\n",
       "    <tr>\n",
       "      <th>17</th>\n",
       "      <td>Republic Airline</td>\n",
       "      <td>46.784504</td>\n",
       "      <td>25.0</td>\n",
       "    </tr>\n",
       "    <tr>\n",
       "      <th>10</th>\n",
       "      <td>Spirit Air Lines</td>\n",
       "      <td>46.655881</td>\n",
       "      <td>19.0</td>\n",
       "    </tr>\n",
       "    <tr>\n",
       "      <th>13</th>\n",
       "      <td>United Air Lines Inc.</td>\n",
       "      <td>45.336768</td>\n",
       "      <td>20.0</td>\n",
       "    </tr>\n",
       "    <tr>\n",
       "      <th>11</th>\n",
       "      <td>PSA Airlines Inc.</td>\n",
       "      <td>40.114597</td>\n",
       "      <td>17.0</td>\n",
       "    </tr>\n",
       "    <tr>\n",
       "      <th>9</th>\n",
       "      <td>Envoy Air</td>\n",
       "      <td>39.543712</td>\n",
       "      <td>20.0</td>\n",
       "    </tr>\n",
       "    <tr>\n",
       "      <th>1</th>\n",
       "      <td>American Airlines Inc.</td>\n",
       "      <td>37.123392</td>\n",
       "      <td>16.0</td>\n",
       "    </tr>\n",
       "    <tr>\n",
       "      <th>14</th>\n",
       "      <td>Virgin America</td>\n",
       "      <td>34.926979</td>\n",
       "      <td>18.0</td>\n",
       "    </tr>\n",
       "    <tr>\n",
       "      <th>4</th>\n",
       "      <td>Delta Air Lines Inc.</td>\n",
       "      <td>33.571667</td>\n",
       "      <td>13.0</td>\n",
       "    </tr>\n",
       "    <tr>\n",
       "      <th>2</th>\n",
       "      <td>Alaska Airlines Inc.</td>\n",
       "      <td>28.812374</td>\n",
       "      <td>14.0</td>\n",
       "    </tr>\n",
       "    <tr>\n",
       "      <th>15</th>\n",
       "      <td>Southwest Airlines Co.</td>\n",
       "      <td>25.382091</td>\n",
       "      <td>12.0</td>\n",
       "    </tr>\n",
       "    <tr>\n",
       "      <th>8</th>\n",
       "      <td>Hawaiian Airlines Inc.</td>\n",
       "      <td>19.220196</td>\n",
       "      <td>7.0</td>\n",
       "    </tr>\n",
       "  </tbody>\n",
       "</table>\n",
       "</div>"
      ],
      "text/plain": [
       "                    CARRIER  AVG_DELAY  MEDIAN_DELAY\n",
       "5   ExpressJet Airlines LLC  61.865041          31.0\n",
       "12    SkyWest Airlines Inc.  54.693784          24.0\n",
       "0         Endeavor Air Inc.  53.945690          25.0\n",
       "16       Mesa Airlines Inc.  51.562570          23.0\n",
       "6    Frontier Airlines Inc.  50.856173          25.0\n",
       "7             Allegiant Air  49.588548          22.0\n",
       "3           JetBlue Airways  47.006303          24.0\n",
       "17         Republic Airline  46.784504          25.0\n",
       "10         Spirit Air Lines  46.655881          19.0\n",
       "13    United Air Lines Inc.  45.336768          20.0\n",
       "11        PSA Airlines Inc.  40.114597          17.0\n",
       "9                 Envoy Air  39.543712          20.0\n",
       "1    American Airlines Inc.  37.123392          16.0\n",
       "14           Virgin America  34.926979          18.0\n",
       "4      Delta Air Lines Inc.  33.571667          13.0\n",
       "2      Alaska Airlines Inc.  28.812374          14.0\n",
       "15   Southwest Airlines Co.  25.382091          12.0\n",
       "8    Hawaiian Airlines Inc.  19.220196           7.0"
      ]
     },
     "execution_count": 45,
     "metadata": {},
     "output_type": "execute_result"
    }
   ],
   "source": [
    "avg_del_airl = del_airl.groupby('CARRIER', as_index=False)['DEP_DELAY'].mean()\n",
    "median_del_airl = del_airl.groupby('CARRIER', as_index=False)['DEP_DELAY'].median()\n",
    "stats_del_airl = pd.merge(avg_del_airl, median_del_airl, on = \"CARRIER\")\n",
    "stats_del_airl.rename(columns={'DEP_DELAY_x': 'AVG_DELAY', 'DEP_DELAY_y': 'MEDIAN_DELAY'}, inplace = True)\n",
    "stats_del_airl.sort_values(by='AVG_DELAY', ascending=False, inplace=True)\n",
    "stats_del_airl['CARRIER'] = stats_del_airl['CARRIER'].map(code_to_full_names)\n",
    "stats_del_airl"
   ]
  },
  {
   "cell_type": "markdown",
   "metadata": {
    "slideshow": {
     "slide_type": "slide"
    }
   },
   "source": [
    "### Enriching the airline misery index\n",
    "Same with question 1, we combine the results we found; the probability, the average and the median delay per airline. "
   ]
  },
  {
   "cell_type": "code",
   "execution_count": 46,
   "metadata": {},
   "outputs": [
    {
     "data": {
      "text/html": [
       "<div>\n",
       "<style scoped>\n",
       "    .dataframe tbody tr th:only-of-type {\n",
       "        vertical-align: middle;\n",
       "    }\n",
       "\n",
       "    .dataframe tbody tr th {\n",
       "        vertical-align: top;\n",
       "    }\n",
       "\n",
       "    .dataframe thead th {\n",
       "        text-align: right;\n",
       "    }\n",
       "</style>\n",
       "<table border=\"1\" class=\"dataframe\">\n",
       "  <thead>\n",
       "    <tr style=\"text-align: right;\">\n",
       "      <th></th>\n",
       "      <th>CARRIER</th>\n",
       "      <th>AVG_DELAY</th>\n",
       "      <th>MEDIAN_DELAY</th>\n",
       "      <th>DELAY_PROBABILITY</th>\n",
       "    </tr>\n",
       "  </thead>\n",
       "  <tbody>\n",
       "    <tr>\n",
       "      <th>0</th>\n",
       "      <td>Endeavor Air Inc.</td>\n",
       "      <td>53.945690</td>\n",
       "      <td>25.0</td>\n",
       "      <td>48.971352</td>\n",
       "    </tr>\n",
       "    <tr>\n",
       "      <th>14</th>\n",
       "      <td>Virgin America</td>\n",
       "      <td>34.926979</td>\n",
       "      <td>18.0</td>\n",
       "      <td>44.421210</td>\n",
       "    </tr>\n",
       "    <tr>\n",
       "      <th>6</th>\n",
       "      <td>Frontier Airlines Inc.</td>\n",
       "      <td>50.856173</td>\n",
       "      <td>25.0</td>\n",
       "      <td>40.985869</td>\n",
       "    </tr>\n",
       "    <tr>\n",
       "      <th>8</th>\n",
       "      <td>Hawaiian Airlines Inc.</td>\n",
       "      <td>19.220196</td>\n",
       "      <td>7.0</td>\n",
       "      <td>36.000891</td>\n",
       "    </tr>\n",
       "    <tr>\n",
       "      <th>2</th>\n",
       "      <td>Alaska Airlines Inc.</td>\n",
       "      <td>28.812374</td>\n",
       "      <td>14.0</td>\n",
       "      <td>34.658024</td>\n",
       "    </tr>\n",
       "    <tr>\n",
       "      <th>15</th>\n",
       "      <td>Southwest Airlines Co.</td>\n",
       "      <td>25.382091</td>\n",
       "      <td>12.0</td>\n",
       "      <td>34.177570</td>\n",
       "    </tr>\n",
       "    <tr>\n",
       "      <th>17</th>\n",
       "      <td>Republic Airline</td>\n",
       "      <td>46.784504</td>\n",
       "      <td>25.0</td>\n",
       "      <td>30.458404</td>\n",
       "    </tr>\n",
       "    <tr>\n",
       "      <th>1</th>\n",
       "      <td>American Airlines Inc.</td>\n",
       "      <td>37.123392</td>\n",
       "      <td>16.0</td>\n",
       "      <td>30.145383</td>\n",
       "    </tr>\n",
       "    <tr>\n",
       "      <th>4</th>\n",
       "      <td>Delta Air Lines Inc.</td>\n",
       "      <td>33.571667</td>\n",
       "      <td>13.0</td>\n",
       "      <td>29.803641</td>\n",
       "    </tr>\n",
       "    <tr>\n",
       "      <th>13</th>\n",
       "      <td>United Air Lines Inc.</td>\n",
       "      <td>45.336768</td>\n",
       "      <td>20.0</td>\n",
       "      <td>29.015541</td>\n",
       "    </tr>\n",
       "    <tr>\n",
       "      <th>7</th>\n",
       "      <td>Allegiant Air</td>\n",
       "      <td>49.588548</td>\n",
       "      <td>22.0</td>\n",
       "      <td>28.224905</td>\n",
       "    </tr>\n",
       "    <tr>\n",
       "      <th>11</th>\n",
       "      <td>PSA Airlines Inc.</td>\n",
       "      <td>40.114597</td>\n",
       "      <td>17.0</td>\n",
       "      <td>28.021084</td>\n",
       "    </tr>\n",
       "    <tr>\n",
       "      <th>10</th>\n",
       "      <td>Spirit Air Lines</td>\n",
       "      <td>46.655881</td>\n",
       "      <td>19.0</td>\n",
       "      <td>26.958712</td>\n",
       "    </tr>\n",
       "    <tr>\n",
       "      <th>12</th>\n",
       "      <td>SkyWest Airlines Inc.</td>\n",
       "      <td>54.693784</td>\n",
       "      <td>24.0</td>\n",
       "      <td>26.565134</td>\n",
       "    </tr>\n",
       "    <tr>\n",
       "      <th>9</th>\n",
       "      <td>Envoy Air</td>\n",
       "      <td>39.543712</td>\n",
       "      <td>20.0</td>\n",
       "      <td>26.408097</td>\n",
       "    </tr>\n",
       "    <tr>\n",
       "      <th>3</th>\n",
       "      <td>JetBlue Airways</td>\n",
       "      <td>47.006303</td>\n",
       "      <td>24.0</td>\n",
       "      <td>26.247680</td>\n",
       "    </tr>\n",
       "    <tr>\n",
       "      <th>16</th>\n",
       "      <td>Mesa Airlines Inc.</td>\n",
       "      <td>51.562570</td>\n",
       "      <td>23.0</td>\n",
       "      <td>25.998829</td>\n",
       "    </tr>\n",
       "    <tr>\n",
       "      <th>5</th>\n",
       "      <td>ExpressJet Airlines LLC</td>\n",
       "      <td>61.865041</td>\n",
       "      <td>31.0</td>\n",
       "      <td>23.992850</td>\n",
       "    </tr>\n",
       "  </tbody>\n",
       "</table>\n",
       "</div>"
      ],
      "text/plain": [
       "                    CARRIER  AVG_DELAY  MEDIAN_DELAY  DELAY_PROBABILITY\n",
       "0         Endeavor Air Inc.  53.945690          25.0          48.971352\n",
       "14           Virgin America  34.926979          18.0          44.421210\n",
       "6    Frontier Airlines Inc.  50.856173          25.0          40.985869\n",
       "8    Hawaiian Airlines Inc.  19.220196           7.0          36.000891\n",
       "2      Alaska Airlines Inc.  28.812374          14.0          34.658024\n",
       "15   Southwest Airlines Co.  25.382091          12.0          34.177570\n",
       "17         Republic Airline  46.784504          25.0          30.458404\n",
       "1    American Airlines Inc.  37.123392          16.0          30.145383\n",
       "4      Delta Air Lines Inc.  33.571667          13.0          29.803641\n",
       "13    United Air Lines Inc.  45.336768          20.0          29.015541\n",
       "7             Allegiant Air  49.588548          22.0          28.224905\n",
       "11        PSA Airlines Inc.  40.114597          17.0          28.021084\n",
       "10         Spirit Air Lines  46.655881          19.0          26.958712\n",
       "12    SkyWest Airlines Inc.  54.693784          24.0          26.565134\n",
       "9                 Envoy Air  39.543712          20.0          26.408097\n",
       "3           JetBlue Airways  47.006303          24.0          26.247680\n",
       "16       Mesa Airlines Inc.  51.562570          23.0          25.998829\n",
       "5   ExpressJet Airlines LLC  61.865041          31.0          23.992850"
      ]
     },
     "execution_count": 46,
     "metadata": {},
     "output_type": "execute_result"
    }
   ],
   "source": [
    "stats_del_airl['DELAY_PROBABILITY'] = prob_del_airl['PROBABILITY_OF_DEL']\n",
    "stats_del_airl = stats_del_airl.sort_values(by='DELAY_PROBABILITY', ascending=False)\n",
    "stats_del_airl"
   ]
  },
  {
   "cell_type": "markdown",
   "metadata": {
    "slideshow": {
     "slide_type": "slide"
    }
   },
   "source": [
    "## Question 3\n",
    "In this question we are going to show a histogram that expresses the distribution of departures for airports."
   ]
  },
  {
   "cell_type": "markdown",
   "metadata": {
    "slideshow": {
     "slide_type": "slide"
    }
   },
   "source": [
    "We divide our x-scale logarithmically in order to show a reasonable distribution of the departures. Otherwise, a histogram would be difficult to be read and explained. Each bin defines specific spaces which express the number of flights, while the y-axis shows the number of airlines that have a total number of flights within the space of the bin."
   ]
  },
  {
   "cell_type": "code",
   "execution_count": 47,
   "metadata": {
    "scrolled": false,
    "slideshow": {
     "slide_type": "fragment"
    }
   },
   "outputs": [
    {
     "data": {
      "image/png": "[encoded data removed]",
      "text/plain": [
       "<Figure size 1080x720 with 1 Axes>"
      ]
     },
     "metadata": {
      "needs_background": "light"
     },
     "output_type": "display_data"
    }
   ],
   "source": [
    "hist = total_fl.hist(bins=np.logspace(0, 6, num=7),\n",
    "                    color='blue', edgecolor='black',\n",
    "                     alpha = 0.8, figsize=(15,10))\n",
    "plt.xscale('log')"
   ]
  },
  {
   "cell_type": "markdown",
   "metadata": {
    "slideshow": {
     "slide_type": "slide"
    }
   },
   "source": [
    "## Question 4\n",
    "This question provides the temporal distribution of delays. We are going to create **a plot that combines the total number of flights and the number of delayed flights per month of year**."
   ]
  },
  {
   "cell_type": "markdown",
   "metadata": {
    "slideshow": {
     "slide_type": "slide"
    }
   },
   "source": [
    "We first need to calculate the total number of flights per month of year."
   ]
  },
  {
   "cell_type": "code",
   "execution_count": 48,
   "metadata": {
    "slideshow": {
     "slide_type": "fragment"
    }
   },
   "outputs": [
    {
     "data": {
      "text/html": [
       "<div>\n",
       "<style scoped>\n",
       "    .dataframe tbody tr th:only-of-type {\n",
       "        vertical-align: middle;\n",
       "    }\n",
       "\n",
       "    .dataframe tbody tr th {\n",
       "        vertical-align: top;\n",
       "    }\n",
       "\n",
       "    .dataframe thead th {\n",
       "        text-align: right;\n",
       "    }\n",
       "</style>\n",
       "<table border=\"1\" class=\"dataframe\">\n",
       "  <thead>\n",
       "    <tr style=\"text-align: right;\">\n",
       "      <th></th>\n",
       "      <th>FL_DATE</th>\n",
       "    </tr>\n",
       "  </thead>\n",
       "  <tbody>\n",
       "    <tr>\n",
       "      <th>1</th>\n",
       "      <td>570118</td>\n",
       "    </tr>\n",
       "    <tr>\n",
       "      <th>2</th>\n",
       "      <td>520731</td>\n",
       "    </tr>\n",
       "    <tr>\n",
       "      <th>3</th>\n",
       "      <td>611987</td>\n",
       "    </tr>\n",
       "    <tr>\n",
       "      <th>4</th>\n",
       "      <td>596046</td>\n",
       "    </tr>\n",
       "    <tr>\n",
       "      <th>5</th>\n",
       "      <td>616529</td>\n",
       "    </tr>\n",
       "    <tr>\n",
       "      <th>6</th>\n",
       "      <td>626193</td>\n",
       "    </tr>\n",
       "    <tr>\n",
       "      <th>7</th>\n",
       "      <td>645299</td>\n",
       "    </tr>\n",
       "    <tr>\n",
       "      <th>8</th>\n",
       "      <td>644673</td>\n",
       "    </tr>\n",
       "    <tr>\n",
       "      <th>9</th>\n",
       "      <td>585749</td>\n",
       "    </tr>\n",
       "    <tr>\n",
       "      <th>10</th>\n",
       "      <td>616101</td>\n",
       "    </tr>\n",
       "    <tr>\n",
       "      <th>11</th>\n",
       "      <td>586178</td>\n",
       "    </tr>\n",
       "    <tr>\n",
       "      <th>12</th>\n",
       "      <td>593842</td>\n",
       "    </tr>\n",
       "  </tbody>\n",
       "</table>\n",
       "</div>"
      ],
      "text/plain": [
       "    FL_DATE\n",
       "1    570118\n",
       "2    520731\n",
       "3    611987\n",
       "4    596046\n",
       "5    616529\n",
       "6    626193\n",
       "7    645299\n",
       "8    644673\n",
       "9    585749\n",
       "10   616101\n",
       "11   586178\n",
       "12   593842"
      ]
     },
     "execution_count": 48,
     "metadata": {},
     "output_type": "execute_result"
    }
   ],
   "source": [
    "temp_monthly_fl = pd.DataFrame(pd.to_datetime(data['FL_DATE']))\n",
    "monthly_fl = pd.DataFrame(temp_monthly_fl['FL_DATE'].dt.month.value_counts())\n",
    "monthly_fl.sort_index(inplace = True)\n",
    "monthly_fl"
   ]
  },
  {
   "cell_type": "markdown",
   "metadata": {
    "slideshow": {
     "slide_type": "slide"
    }
   },
   "source": [
    "Then, we need to calculate the number of delayed flights per month of year. We use `del_airl` that we extracted in question 2 that contains all the delayed flights."
   ]
  },
  {
   "cell_type": "code",
   "execution_count": 49,
   "metadata": {
    "slideshow": {
     "slide_type": "fragment"
    }
   },
   "outputs": [
    {
     "data": {
      "text/html": [
       "<div>\n",
       "<style scoped>\n",
       "    .dataframe tbody tr th:only-of-type {\n",
       "        vertical-align: middle;\n",
       "    }\n",
       "\n",
       "    .dataframe tbody tr th {\n",
       "        vertical-align: top;\n",
       "    }\n",
       "\n",
       "    .dataframe thead th {\n",
       "        text-align: right;\n",
       "    }\n",
       "</style>\n",
       "<table border=\"1\" class=\"dataframe\">\n",
       "  <thead>\n",
       "    <tr style=\"text-align: right;\">\n",
       "      <th></th>\n",
       "      <th>FL_DATE</th>\n",
       "    </tr>\n",
       "  </thead>\n",
       "  <tbody>\n",
       "    <tr>\n",
       "      <th>1</th>\n",
       "      <td>183723</td>\n",
       "    </tr>\n",
       "    <tr>\n",
       "      <th>2</th>\n",
       "      <td>174962</td>\n",
       "    </tr>\n",
       "    <tr>\n",
       "      <th>3</th>\n",
       "      <td>199775</td>\n",
       "    </tr>\n",
       "    <tr>\n",
       "      <th>4</th>\n",
       "      <td>193204</td>\n",
       "    </tr>\n",
       "    <tr>\n",
       "      <th>5</th>\n",
       "      <td>215382</td>\n",
       "    </tr>\n",
       "    <tr>\n",
       "      <th>6</th>\n",
       "      <td>238353</td>\n",
       "    </tr>\n",
       "    <tr>\n",
       "      <th>7</th>\n",
       "      <td>246392</td>\n",
       "    </tr>\n",
       "    <tr>\n",
       "      <th>8</th>\n",
       "      <td>239323</td>\n",
       "    </tr>\n",
       "    <tr>\n",
       "      <th>9</th>\n",
       "      <td>167257</td>\n",
       "    </tr>\n",
       "    <tr>\n",
       "      <th>10</th>\n",
       "      <td>187187</td>\n",
       "    </tr>\n",
       "    <tr>\n",
       "      <th>11</th>\n",
       "      <td>201256</td>\n",
       "    </tr>\n",
       "    <tr>\n",
       "      <th>12</th>\n",
       "      <td>202403</td>\n",
       "    </tr>\n",
       "  </tbody>\n",
       "</table>\n",
       "</div>"
      ],
      "text/plain": [
       "    FL_DATE\n",
       "1    183723\n",
       "2    174962\n",
       "3    199775\n",
       "4    193204\n",
       "5    215382\n",
       "6    238353\n",
       "7    246392\n",
       "8    239323\n",
       "9    167257\n",
       "10   187187\n",
       "11   201256\n",
       "12   202403"
      ]
     },
     "execution_count": 49,
     "metadata": {},
     "output_type": "execute_result"
    }
   ],
   "source": [
    "temp_del_monthly_fl = pd.DataFrame(pd.to_datetime(del_airl['FL_DATE']))\n",
    "del_monthly_fl = pd.DataFrame(temp_del_monthly_fl['FL_DATE'].dt.month.value_counts())\n",
    "del_monthly_fl.sort_index(inplace=True)\n",
    "del_monthly_fl"
   ]
  },
  {
   "cell_type": "markdown",
   "metadata": {
    "slideshow": {
     "slide_type": "slide"
    }
   },
   "source": [
    "Now we can create the plot that shows the temporal distribution of delays."
   ]
  },
  {
   "cell_type": "code",
   "execution_count": 50,
   "metadata": {
    "scrolled": false
   },
   "outputs": [
    {
     "data": {
      "text/plain": [
       "[<matplotlib.axis.XTick at 0x23d444c2f98>,\n",
       " <matplotlib.axis.XTick at 0x23d6c5bcd30>,\n",
       " <matplotlib.axis.XTick at 0x23d411e8c50>,\n",
       " <matplotlib.axis.XTick at 0x23d411e7cc0>,\n",
       " <matplotlib.axis.XTick at 0x23d411e6390>,\n",
       " <matplotlib.axis.XTick at 0x23d401c2198>,\n",
       " <matplotlib.axis.XTick at 0x23d4016a0f0>,\n",
       " <matplotlib.axis.XTick at 0x23d20a25f60>,\n",
       " <matplotlib.axis.XTick at 0x23d44574cf8>,\n",
       " <matplotlib.axis.XTick at 0x23d3f095c88>,\n",
       " <matplotlib.axis.XTick at 0x23d3f03f588>,\n",
       " <matplotlib.axis.XTick at 0x23d3e01b9b0>]"
      ]
     },
     "execution_count": 50,
     "metadata": {},
     "output_type": "execute_result"
    },
    {
     "data": {
      "image/png": "[encoded data removed]",
      "text/plain": [
       "<Figure size 1080x720 with 1 Axes>"
      ]
     },
     "metadata": {
      "needs_background": "light"
     },
     "output_type": "display_data"
    }
   ],
   "source": [
    "temporal_dist = pd.merge(monthly_fl, del_monthly_fl, left_index=True, right_index=True)\n",
    "temporal_dist.rename(columns={\"FL_DATE_x\": \"TOTAL\", \"FL_DATE_y\": \"DELAYED\"}, inplace=True)\n",
    "lines = temporal_dist.plot.line(figsize=(15,10))\n",
    "lines.set_xticks(list(range(1,13)))"
   ]
  },
  {
   "cell_type": "markdown",
   "metadata": {
    "slideshow": {
     "slide_type": "slide"
    }
   },
   "source": [
    "## Question 5\n",
    "In this question, we aim to present which airline had the best performance in terms of mean departure delay for each possible origin and destination. In order not to repeat some procedures we did before, we use some results we found in the previous questions. "
   ]
  },
  {
   "cell_type": "markdown",
   "metadata": {
    "slideshow": {
     "slide_type": "slide"
    }
   },
   "source": [
    "At first, we use the `del_airl` data frame that we extracted before - it expresses the filghts that were delayed - in order to perform a `groupby` method to gather our data together. So, we create groups chracterized by `ORIGIN, DEST and CARRIER` and apply a mean calculation. "
   ]
  },
  {
   "cell_type": "code",
   "execution_count": 51,
   "metadata": {
    "scrolled": false,
    "slideshow": {
     "slide_type": "fragment"
    }
   },
   "outputs": [
    {
     "data": {
      "text/html": [
       "<div>\n",
       "<style scoped>\n",
       "    .dataframe tbody tr th:only-of-type {\n",
       "        vertical-align: middle;\n",
       "    }\n",
       "\n",
       "    .dataframe tbody tr th {\n",
       "        vertical-align: top;\n",
       "    }\n",
       "\n",
       "    .dataframe thead th {\n",
       "        text-align: right;\n",
       "    }\n",
       "</style>\n",
       "<table border=\"1\" class=\"dataframe\">\n",
       "  <thead>\n",
       "    <tr style=\"text-align: right;\">\n",
       "      <th></th>\n",
       "      <th></th>\n",
       "      <th></th>\n",
       "      <th>AVG_DEP_DELAY</th>\n",
       "    </tr>\n",
       "    <tr>\n",
       "      <th>ORIGIN</th>\n",
       "      <th>DEST</th>\n",
       "      <th>CARRIER</th>\n",
       "      <th></th>\n",
       "    </tr>\n",
       "  </thead>\n",
       "  <tbody>\n",
       "    <tr>\n",
       "      <th rowspan=\"10\" valign=\"top\">ABE</th>\n",
       "      <th rowspan=\"3\" valign=\"top\">ATL</th>\n",
       "      <th>9E</th>\n",
       "      <td>53.771429</td>\n",
       "    </tr>\n",
       "    <tr>\n",
       "      <th>DL</th>\n",
       "      <td>58.046154</td>\n",
       "    </tr>\n",
       "    <tr>\n",
       "      <th>EV</th>\n",
       "      <td>40.976190</td>\n",
       "    </tr>\n",
       "    <tr>\n",
       "      <th>CLT</th>\n",
       "      <th>OH</th>\n",
       "      <td>35.364706</td>\n",
       "    </tr>\n",
       "    <tr>\n",
       "      <th>DTW</th>\n",
       "      <th>OO</th>\n",
       "      <td>72.098425</td>\n",
       "    </tr>\n",
       "    <tr>\n",
       "      <th>FLL</th>\n",
       "      <th>G4</th>\n",
       "      <td>55.574074</td>\n",
       "    </tr>\n",
       "    <tr>\n",
       "      <th>MDT</th>\n",
       "      <th>OO</th>\n",
       "      <td>175.000000</td>\n",
       "    </tr>\n",
       "    <tr>\n",
       "      <th>MYR</th>\n",
       "      <th>G4</th>\n",
       "      <td>52.541667</td>\n",
       "    </tr>\n",
       "    <tr>\n",
       "      <th rowspan=\"2\" valign=\"top\">ORD</th>\n",
       "      <th>EV</th>\n",
       "      <td>59.066667</td>\n",
       "    </tr>\n",
       "    <tr>\n",
       "      <th>OO</th>\n",
       "      <td>52.954545</td>\n",
       "    </tr>\n",
       "  </tbody>\n",
       "</table>\n",
       "</div>"
      ],
      "text/plain": [
       "                     AVG_DEP_DELAY\n",
       "ORIGIN DEST CARRIER               \n",
       "ABE    ATL  9E           53.771429\n",
       "            DL           58.046154\n",
       "            EV           40.976190\n",
       "       CLT  OH           35.364706\n",
       "       DTW  OO           72.098425\n",
       "       FLL  G4           55.574074\n",
       "       MDT  OO          175.000000\n",
       "       MYR  G4           52.541667\n",
       "       ORD  EV           59.066667\n",
       "            OO           52.954545"
      ]
     },
     "execution_count": 51,
     "metadata": {},
     "output_type": "execute_result"
    }
   ],
   "source": [
    "orig_dest_airl = del_airl.groupby(['ORIGIN', 'DEST', 'CARRIER']).agg({'DEP_DELAY':'mean'})\n",
    "orig_dest_airl.rename(columns={\"DEP_DELAY\": \"AVG_DEP_DELAY\"}, inplace=True)\n",
    "orig_dest_airl.head(10)"
   ]
  },
  {
   "cell_type": "markdown",
   "metadata": {
    "slideshow": {
     "slide_type": "slide"
    }
   },
   "source": [
    "Then, we set our index on the columns that we are interested in and sort them in ascending order. This means that in column `AVG_DEP_DELAY` the first cell of each group expresses the minimum average of departure delay  that this origin-destination had in 2018. In order to be more accurate, we rename each airline from its code to its full name, too."
   ]
  },
  {
   "cell_type": "code",
   "execution_count": 52,
   "metadata": {
    "slideshow": {
     "slide_type": "fragment"
    }
   },
   "outputs": [
    {
     "data": {
      "text/html": [
       "<div>\n",
       "<style scoped>\n",
       "    .dataframe tbody tr th:only-of-type {\n",
       "        vertical-align: middle;\n",
       "    }\n",
       "\n",
       "    .dataframe tbody tr th {\n",
       "        vertical-align: top;\n",
       "    }\n",
       "\n",
       "    .dataframe thead th {\n",
       "        text-align: right;\n",
       "    }\n",
       "</style>\n",
       "<table border=\"1\" class=\"dataframe\">\n",
       "  <thead>\n",
       "    <tr style=\"text-align: right;\">\n",
       "      <th></th>\n",
       "      <th></th>\n",
       "      <th></th>\n",
       "      <th>CARRIER</th>\n",
       "    </tr>\n",
       "    <tr>\n",
       "      <th>ORIGIN</th>\n",
       "      <th>DEST</th>\n",
       "      <th>AVG_DEP_DELAY</th>\n",
       "      <th></th>\n",
       "    </tr>\n",
       "  </thead>\n",
       "  <tbody>\n",
       "    <tr>\n",
       "      <th rowspan=\"10\" valign=\"top\">ABE</th>\n",
       "      <th rowspan=\"3\" valign=\"top\">ATL</th>\n",
       "      <th>40.976190</th>\n",
       "      <td>ExpressJet Airlines LLC</td>\n",
       "    </tr>\n",
       "    <tr>\n",
       "      <th>53.771429</th>\n",
       "      <td>Endeavor Air Inc.</td>\n",
       "    </tr>\n",
       "    <tr>\n",
       "      <th>58.046154</th>\n",
       "      <td>Delta Air Lines Inc.</td>\n",
       "    </tr>\n",
       "    <tr>\n",
       "      <th>CLT</th>\n",
       "      <th>35.364706</th>\n",
       "      <td>PSA Airlines Inc.</td>\n",
       "    </tr>\n",
       "    <tr>\n",
       "      <th>DTW</th>\n",
       "      <th>72.098425</th>\n",
       "      <td>SkyWest Airlines Inc.</td>\n",
       "    </tr>\n",
       "    <tr>\n",
       "      <th>FLL</th>\n",
       "      <th>55.574074</th>\n",
       "      <td>Allegiant Air</td>\n",
       "    </tr>\n",
       "    <tr>\n",
       "      <th>MDT</th>\n",
       "      <th>175.000000</th>\n",
       "      <td>SkyWest Airlines Inc.</td>\n",
       "    </tr>\n",
       "    <tr>\n",
       "      <th>MYR</th>\n",
       "      <th>52.541667</th>\n",
       "      <td>Allegiant Air</td>\n",
       "    </tr>\n",
       "    <tr>\n",
       "      <th rowspan=\"2\" valign=\"top\">ORD</th>\n",
       "      <th>52.954545</th>\n",
       "      <td>SkyWest Airlines Inc.</td>\n",
       "    </tr>\n",
       "    <tr>\n",
       "      <th>59.066667</th>\n",
       "      <td>ExpressJet Airlines LLC</td>\n",
       "    </tr>\n",
       "  </tbody>\n",
       "</table>\n",
       "</div>"
      ],
      "text/plain": [
       "                                           CARRIER\n",
       "ORIGIN DEST AVG_DEP_DELAY                         \n",
       "ABE    ATL  40.976190      ExpressJet Airlines LLC\n",
       "            53.771429            Endeavor Air Inc.\n",
       "            58.046154         Delta Air Lines Inc.\n",
       "       CLT  35.364706            PSA Airlines Inc.\n",
       "       DTW  72.098425        SkyWest Airlines Inc.\n",
       "       FLL  55.574074                Allegiant Air\n",
       "       MDT  175.000000       SkyWest Airlines Inc.\n",
       "       MYR  52.541667                Allegiant Air\n",
       "       ORD  52.954545        SkyWest Airlines Inc.\n",
       "            59.066667      ExpressJet Airlines LLC"
      ]
     },
     "execution_count": 52,
     "metadata": {},
     "output_type": "execute_result"
    }
   ],
   "source": [
    "orig_dest_airl.reset_index(inplace=True)\n",
    "orig_dest_airl.set_index(['ORIGIN', 'DEST', 'AVG_DEP_DELAY'], inplace = True)\n",
    "orig_dest_airl.sort_index(inplace=True)\n",
    "orig_dest_airl['CARRIER'] = orig_dest_airl['CARRIER'].map(code_to_full_names)\n",
    "orig_dest_airl.head(10)"
   ]
  },
  {
   "cell_type": "markdown",
   "metadata": {
    "slideshow": {
     "slide_type": "slide"
    }
   },
   "source": [
    "And now we are ready to select the `first()` element of each group and find the airline that had the best performance for each possible origin-destination. We reset column AVG_DEP_DELAY from index in order to make it a distinct part of each group. "
   ]
  },
  {
   "cell_type": "code",
   "execution_count": 53,
   "metadata": {
    "slideshow": {
     "slide_type": "fragment"
    }
   },
   "outputs": [
    {
     "data": {
      "text/html": [
       "<div>\n",
       "<style scoped>\n",
       "    .dataframe tbody tr th:only-of-type {\n",
       "        vertical-align: middle;\n",
       "    }\n",
       "\n",
       "    .dataframe tbody tr th {\n",
       "        vertical-align: top;\n",
       "    }\n",
       "\n",
       "    .dataframe thead th {\n",
       "        text-align: right;\n",
       "    }\n",
       "</style>\n",
       "<table border=\"1\" class=\"dataframe\">\n",
       "  <thead>\n",
       "    <tr style=\"text-align: right;\">\n",
       "      <th></th>\n",
       "      <th></th>\n",
       "      <th>AVG_DEP_DELAY</th>\n",
       "      <th>CARRIER</th>\n",
       "    </tr>\n",
       "    <tr>\n",
       "      <th>ORIGIN</th>\n",
       "      <th>DEST</th>\n",
       "      <th></th>\n",
       "      <th></th>\n",
       "    </tr>\n",
       "  </thead>\n",
       "  <tbody>\n",
       "    <tr>\n",
       "      <th rowspan=\"10\" valign=\"top\">ABE</th>\n",
       "      <th>ATL</th>\n",
       "      <td>40.976190</td>\n",
       "      <td>ExpressJet Airlines LLC</td>\n",
       "    </tr>\n",
       "    <tr>\n",
       "      <th>CLT</th>\n",
       "      <td>35.364706</td>\n",
       "      <td>PSA Airlines Inc.</td>\n",
       "    </tr>\n",
       "    <tr>\n",
       "      <th>DTW</th>\n",
       "      <td>72.098425</td>\n",
       "      <td>SkyWest Airlines Inc.</td>\n",
       "    </tr>\n",
       "    <tr>\n",
       "      <th>FLL</th>\n",
       "      <td>55.574074</td>\n",
       "      <td>Allegiant Air</td>\n",
       "    </tr>\n",
       "    <tr>\n",
       "      <th>MDT</th>\n",
       "      <td>175.000000</td>\n",
       "      <td>SkyWest Airlines Inc.</td>\n",
       "    </tr>\n",
       "    <tr>\n",
       "      <th>MYR</th>\n",
       "      <td>52.541667</td>\n",
       "      <td>Allegiant Air</td>\n",
       "    </tr>\n",
       "    <tr>\n",
       "      <th>ORD</th>\n",
       "      <td>52.954545</td>\n",
       "      <td>SkyWest Airlines Inc.</td>\n",
       "    </tr>\n",
       "    <tr>\n",
       "      <th>PGD</th>\n",
       "      <td>54.163636</td>\n",
       "      <td>Allegiant Air</td>\n",
       "    </tr>\n",
       "    <tr>\n",
       "      <th>PHL</th>\n",
       "      <td>58.636364</td>\n",
       "      <td>PSA Airlines Inc.</td>\n",
       "    </tr>\n",
       "    <tr>\n",
       "      <th>PIE</th>\n",
       "      <td>48.271186</td>\n",
       "      <td>Allegiant Air</td>\n",
       "    </tr>\n",
       "  </tbody>\n",
       "</table>\n",
       "</div>"
      ],
      "text/plain": [
       "             AVG_DEP_DELAY                  CARRIER\n",
       "ORIGIN DEST                                        \n",
       "ABE    ATL       40.976190  ExpressJet Airlines LLC\n",
       "       CLT       35.364706        PSA Airlines Inc.\n",
       "       DTW       72.098425    SkyWest Airlines Inc.\n",
       "       FLL       55.574074            Allegiant Air\n",
       "       MDT      175.000000    SkyWest Airlines Inc.\n",
       "       MYR       52.541667            Allegiant Air\n",
       "       ORD       52.954545    SkyWest Airlines Inc.\n",
       "       PGD       54.163636            Allegiant Air\n",
       "       PHL       58.636364        PSA Airlines Inc.\n",
       "       PIE       48.271186            Allegiant Air"
      ]
     },
     "execution_count": 53,
     "metadata": {},
     "output_type": "execute_result"
    }
   ],
   "source": [
    "orig_dest_airl.reset_index(level = 'AVG_DEP_DELAY', inplace = True)\n",
    "min_del_flights = orig_dest_airl.groupby(['ORIGIN', 'DEST']).first()\n",
    "min_del_flights.head(10)"
   ]
  },
  {
   "cell_type": "markdown",
   "metadata": {
    "slideshow": {
     "slide_type": "slide"
    }
   },
   "source": [
    "At the end, based on what we found earlier, we want to find the airline that had the best performance for a given origin-destination. Thus, we create and send a query to the last data-frame we created, and get the airline's name, followed by the origin and destination given."
   ]
  },
  {
   "cell_type": "code",
   "execution_count": 54,
   "metadata": {
    "slideshow": {
     "slide_type": "fragment"
    }
   },
   "outputs": [
    {
     "data": {
      "text/plain": [
       "ORIGIN  DEST\n",
       "ABE     SFB     Allegiant Air\n",
       "Name: CARRIER, dtype: object"
      ]
     },
     "execution_count": 54,
     "metadata": {},
     "output_type": "execute_result"
    }
   ],
   "source": [
    "orig_dest = ['ABE', 'SFB']\n",
    "min_del_flights.query('@orig_dest[0] == ORIGIN and @orig_dest[1] == DEST').CARRIER"
   ]
  },
  {
   "cell_type": "code",
   "execution_count": null,
   "metadata": {},
   "outputs": [],
   "source": []
  }
 ],
 "metadata": {
  "celltoolbar": "Slideshow",
  "kernelspec": {
   "display_name": "Python 3",
   "language": "python",
   "name": "python3"
  },
  "language_info": {
   "codemirror_mode": {
    "name": "ipython",
    "version": 3
   },
   "file_extension": ".py",
   "mimetype": "text/x-python",
   "name": "python",
   "nbconvert_exporter": "python",
   "pygments_lexer": "ipython3",
   "version": "3.7.3"
  }
 },
 "nbformat": 4,
 "nbformat_minor": 2
}
